{
  "nbformat": 4,
  "nbformat_minor": 0,
  "metadata": {
    "colab": {
      "name": "Mahalanobis-Distance.ipynb",
      "provenance": [],
      "authorship_tag": "ABX9TyM4AkwzpaU8f+8FZqPu9W5y",
      "include_colab_link": true
    },
    "kernelspec": {
      "name": "python3",
      "display_name": "Python 3"
    },
    "language_info": {
      "name": "python"
    }
  },
  "cells": [
    {
      "cell_type": "markdown",
      "metadata": {
        "id": "view-in-github",
        "colab_type": "text"
      },
      "source": [
        "<a href=\"https://colab.research.google.com/github/eovallemagallanes/pattern-recognition/blob/main/Mahalanobis_Distance.ipynb\" target=\"_parent\"><img src=\"https://colab.research.google.com/assets/colab-badge.svg\" alt=\"Open In Colab\"/></a>"
      ]
    },
    {
      "cell_type": "markdown",
      "source": [
        "# **Mahalanobis distance**\n",
        "\n"
      ],
      "metadata": {
        "id": "VGNbTQYFCHZL"
      }
    },
    {
      "cell_type": "code",
      "source": [
        "import numpy as np\n",
        "from sklearn.datasets import make_blobs\n",
        "import matplotlib.pyplot as plt"
      ],
      "metadata": {
        "id": "BiD1gOhNI4Rz"
      },
      "execution_count": 1,
      "outputs": []
    },
    {
      "cell_type": "code",
      "execution_count": 2,
      "metadata": {
        "id": "08xOowanBorh"
      },
      "outputs": [],
      "source": [
        "def mahalanobis(x_0=None, X=None, cov=None):\n",
        "    x_mu = x_0 - np.mean(X)\n",
        "    if not cov:\n",
        "        cov = np.cov(X.T)\n",
        "    inv_cov = np.linalg.inv(cov)\n",
        "    mahal = x_mu @ inv_cov @ x_mu.T\n",
        "\n",
        "    return mahal"
      ]
    },
    {
      "cell_type": "code",
      "source": [
        "# gen data\n",
        "X, y = make_blobs(n_samples = 100, \n",
        "                  centers = 2,\n",
        "                  n_features = 2,\n",
        "                  cluster_std= 1.5)\n",
        "\n",
        "\n",
        "# split by class\n",
        "X0 = X[np.where(y==0)]\n",
        "X1 = X[np.where(y==1)]\n",
        "\n",
        "# gen test data\n",
        "x_0 = np.random.uniform(-10,10,(1,2))\n",
        "print('Test point: ', x_0)\n",
        "\n",
        "# get mahalanobis distance\n",
        "m_dist = np.array([mahalanobis(x_0, X0), mahalanobis(x_0, X1)])\n",
        "\n",
        "# get class (min distance)\n",
        "print('Distances: ', m_dist.T)\n",
        "y_pred = np.argmin(m_dist)\n",
        "print('Predicted Class: ', y_pred)\n",
        "\n",
        "\n",
        "# plot\n",
        "rgb = np.array(['r', 'g', 'b'])\n",
        "plt.scatter(X[:, 0], X[:, 1], color=rgb[y])\n",
        "plt.plot(x_0[0, 0], x_0[0, 1], '*', color=rgb[y_pred], markersize=12)\n",
        "plt.xlabel('X[0]')\n",
        "plt.ylabel('X[1]')\n",
        "plt.show()"
      ],
      "metadata": {
        "colab": {
          "base_uri": "https://localhost:8080/",
          "height": 332
        },
        "id": "s2tJlstID--9",
        "outputId": "c955ec62-7255-46a0-bdce-f9115789bd00"
      },
      "execution_count": 9,
      "outputs": [
        {
          "output_type": "stream",
          "name": "stdout",
          "text": [
            "Test point:  [[ 8.79476988 -8.5895115 ]]\n",
            "Distances:  [[[143.90953752 115.45551868]]]\n",
            "Predicted Class:  1\n"
          ]
        },
        {
          "output_type": "display_data",
          "data": {
            "image/png": "[encoded data removed]",
            "text/plain": [
              "<Figure size 432x288 with 1 Axes>"
            ]
          },
          "metadata": {
            "needs_background": "light"
          }
        }
      ]
    }
  ]
}