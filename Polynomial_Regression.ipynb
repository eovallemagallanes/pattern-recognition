{
  "nbformat": 4,
  "nbformat_minor": 0,
  "metadata": {
    "colab": {
      "name": "Polynomial-Regression.ipynb",
      "provenance": [],
      "collapsed_sections": [],
      "authorship_tag": "ABX9TyM79GaCV9h2tFcr3pXV2dHN",
      "include_colab_link": true
    },
    "kernelspec": {
      "name": "python3",
      "display_name": "Python 3"
    },
    "language_info": {
      "name": "python"
    },
    "widgets": {
      "application/vnd.jupyter.widget-state+json": {
        "bd28af29f4244fee939b2225c15ecff5": {
          "model_module": "@jupyter-widgets/controls",
          "model_name": "VBoxModel",
          "model_module_version": "1.5.0",
          "state": {
            "_view_name": "VBoxView",
            "_dom_classes": [
              "widget-interact"
            ],
            "_model_name": "VBoxModel",
            "_view_module": "@jupyter-widgets/controls",
            "_model_module_version": "1.5.0",
            "_view_count": null,
            "_view_module_version": "1.5.0",
            "box_style": "",
            "layout": "IPY_MODEL_1fed7cb0c84b4713a1a9eed110dfe250",
            "_model_module": "@jupyter-widgets/controls",
            "children": [
              "IPY_MODEL_878707d4f9ed40f9aa8ff266494579cc",
              "IPY_MODEL_5f63ba434ea7480da2effd741d16f06c",
              "IPY_MODEL_2a7585f4ce284e5d98ffd38cbddbc30e",
              "IPY_MODEL_ed0a7b09a52240688db7419f87dc439f"
            ]
          }
        },
        "1fed7cb0c84b4713a1a9eed110dfe250": {
          "model_module": "@jupyter-widgets/base",
          "model_name": "LayoutModel",
          "model_module_version": "1.2.0",
          "state": {
            "_view_name": "LayoutView",
            "grid_template_rows": null,
            "right": null,
            "justify_content": null,
            "_view_module": "@jupyter-widgets/base",
            "overflow": null,
            "_model_module_version": "1.2.0",
            "_view_count": null,
            "flex_flow": null,
            "width": null,
            "min_width": null,
            "border": null,
            "align_items": null,
            "bottom": null,
            "_model_module": "@jupyter-widgets/base",
            "top": null,
            "grid_column": null,
            "overflow_y": null,
            "overflow_x": null,
            "grid_auto_flow": null,
            "grid_area": null,
            "grid_template_columns": null,
            "flex": null,
            "_model_name": "LayoutModel",
            "justify_items": null,
            "grid_row": null,
            "max_height": null,
            "align_content": null,
            "visibility": null,
            "align_self": null,
            "height": null,
            "min_height": null,
            "padding": null,
            "grid_auto_rows": null,
            "grid_gap": null,
            "max_width": null,
            "order": null,
            "_view_module_version": "1.2.0",
            "grid_template_areas": null,
            "object_position": null,
            "object_fit": null,
            "grid_auto_columns": null,
            "margin": null,
            "display": null,
            "left": null
          }
        },
        "878707d4f9ed40f9aa8ff266494579cc": {
          "model_module": "@jupyter-widgets/controls",
          "model_name": "IntSliderModel",
          "model_module_version": "1.5.0",
          "state": {
            "_view_name": "IntSliderView",
            "style": "IPY_MODEL_e95992263c8045bdb365441f1c23deb3",
            "_dom_classes": [],
            "description": "degree_fit",
            "step": 1,
            "_model_name": "IntSliderModel",
            "orientation": "horizontal",
            "max": 5,
            "_view_module": "@jupyter-widgets/controls",
            "_model_module_version": "1.5.0",
            "value": 5,
            "_view_count": null,
            "disabled": false,
            "_view_module_version": "1.5.0",
            "min": 1,
            "continuous_update": false,
            "readout_format": "d",
            "description_tooltip": null,
            "readout": true,
            "_model_module": "@jupyter-widgets/controls",
            "layout": "IPY_MODEL_19a8ee77fd68436189a512f2d244afb4"
          }
        },
        "5f63ba434ea7480da2effd741d16f06c": {
          "model_module": "@jupyter-widgets/controls",
          "model_name": "CheckboxModel",
          "model_module_version": "1.5.0",
          "state": {
            "_view_name": "CheckboxView",
            "style": "IPY_MODEL_2d09a1010fb24623978296a7959c384d",
            "_dom_classes": [],
            "description": "Regularization",
            "_model_name": "CheckboxModel",
            "_view_module": "@jupyter-widgets/controls",
            "_model_module_version": "1.5.0",
            "value": false,
            "_view_count": null,
            "disabled": false,
            "_view_module_version": "1.5.0",
            "indent": false,
            "description_tooltip": null,
            "_model_module": "@jupyter-widgets/controls",
            "layout": "IPY_MODEL_7235dad6a0854cd1b326c26a59b1ac64"
          }
        },
        "2a7585f4ce284e5d98ffd38cbddbc30e": {
          "model_module": "@jupyter-widgets/controls",
          "model_name": "FloatSliderModel",
          "model_module_version": "1.5.0",
          "state": {
            "_view_name": "FloatSliderView",
            "style": "IPY_MODEL_6bea55c97a9e4c20827440c8039dfeaf",
            "_dom_classes": [],
            "description": "l",
            "step": 0.01,
            "_model_name": "FloatSliderModel",
            "orientation": "horizontal",
            "max": 1,
            "_view_module": "@jupyter-widgets/controls",
            "_model_module_version": "1.5.0",
            "value": 0.01,
            "_view_count": null,
            "disabled": false,
            "_view_module_version": "1.5.0",
            "min": 0.01,
            "continuous_update": false,
            "readout_format": ".2f",
            "description_tooltip": null,
            "readout": true,
            "_model_module": "@jupyter-widgets/controls",
            "layout": "IPY_MODEL_9ad187fb88f04ab085da55221b990d24"
          }
        },
        "ed0a7b09a52240688db7419f87dc439f": {
          "model_module": "@jupyter-widgets/output",
          "model_name": "OutputModel",
          "model_module_version": "1.0.0",
          "state": {
            "_view_name": "OutputView",
            "msg_id": "",
            "_dom_classes": [],
            "_model_name": "OutputModel",
            "outputs": [
              {
                "output_type": "stream",
                "name": "stdout",
                "text": [
                  "Regularization:  False\n",
                  "B:\n",
                  " [[-6.09893182]\n",
                  " [-0.29045083]\n",
                  " [ 0.34310076]\n",
                  " [-2.95371305]\n",
                  " [ 0.28611413]\n",
                  " [ 0.64541952]]\n",
                  "MSE:  4.190566207479089\n"
                ]
              },
              {
                "output_type": "display_data",
                "data": {
                  "image/png": "iVBORw0KGgoAAAANSUhEUgAAAXkAAAD4CAYAAAAJmJb0AAAABHNCSVQICAgIfAhkiAAAAAlwSFlzAAALEgAACxIB0t1+/AAAADh0RVh0U29mdHdhcmUAbWF0cGxvdGxpYiB2ZXJzaW9uMy4yLjIsIGh0dHA6Ly9tYXRwbG90bGliLm9yZy+WH4yJAAAgAElEQVR4nO3deXhTVfrA8e/bNSxlp2yFggyIrAUKiICCMLKIRRRFxQVHRQaZUVwQ3GZ00HHcUEYd5Cc6Ku4oigLKIgiKLMUpO1hAKEWUArJUbKH0/P44AQu2pW1yc5P0/TxPnia5NzlvbuHtzTnnvkeMMSillApPEW4HoJRSyjma5JVSKoxpkldKqTCmSV4ppcKYJnmllApjUW4HUFCtWrVM48aN3Q5DKaVCyqpVq/YaY2oXti2oknzjxo1JTU11OwyllAopIrKjqG3aXaOUUmFMk7xSSoUxTfJKKRXGgqpPXikVPo4dO0ZmZiY5OTluhxI2PB4PCQkJREdHl/g1muSVUo7IzMwkLi6Oxo0bIyJuhxPyjDHs27ePzMxMmjRpUuLXaXcNsOdQDle+9A17DusZh1L+kpOTQ82aNTXB+4mIULNmzVJ/M9IkD0xakM7K7fuZND/d7VCUCiua4P2rLMezXHfXnP3AHHLz8k8+nrY8g2nLM4iNimDzhP4uRqaUUv5Rrs/kl4ztRUpSfTzR9jB4oiMYlFSfJff2cjkypZQ/REZGkpSURKtWrWjXrh1PP/00+fn5xb5m+/btvPXWWwGK0HnlOsnHV/EQFxtFbl4+sVER5OblExcbRXycx+3QlCqX/D0+VqFCBdLS0li/fj3z5s1jzpw5PPzww8W+RpN8mNmbncuwLonMGNWNYV0SycrOdTskpcotJ8fH4uPjmTJlCs8//zzGGLZv306PHj3o0KEDHTp0YOnSpQCMGzeOJUuWkJSUxMSJE4vcL1SI08v/iUgkkArsMsYMLG7f5ORko7VrlAoPGzdu5JxzzinRvqePj53g6/hY5cqVyc7OPuW5atWqsXnzZuLi4oiIiMDj8ZCens7VV19NamoqixYt4qmnnuLTTz8F4MiRI4Xu55bCjquIrDLGJBe2fyAGXm8HNgJVAtCWUioELRnbiwmzNzJ3/Y/kHMvHEx1B31Z1uf/ikv2RKItjx44xevRo0tLSiIyM5LvvvvNpv2DlaJIXkQTgYuBR4E4n21JKha5AjY9t27aNyMhI4uPjefjhh6lTpw6rV68mPz8fj6fwtiZOnFii/YKV02fyzwJjgbiidhCREcAIgEaNGjkcjlIqWJ0YH7umcyPeWpFBlp8vTszKymLkyJGMHj0aEeHgwYMkJCQQERHBa6+9xvHjxwGIi4vj8OHDJ19X1H6hwrEkLyIDgT3GmFUi0rOo/YwxU4ApYPvknYpHKRXcXrruty7lCZe29st7/vrrryQlJXHs2DGioqK47rrruPNO26kwatQoLr/8cl5//XX69etHpUqVAGjbti2RkZG0a9eO4cOHF7lfqHBs4FVE/glcB+QBHmyf/IfGmGuLeo2jA6/H8+D4UYiuAHoVnlKOK83Aqyq5oBl4NcaMB8Z7A+gJ3F1cgve77CxYPwO+mwM/roVfsuzzUR6ocRY07AItLoazekJkySu6KaVUKAm/sgZH9sOXT8CqVyEvB2qdDc37QtVGEBUDv+yFrE2w7gO7T+W60HUUdLoZYkLra5hSSp1JQJK8MWYRsMjxhjZ/Bp/81SbydlfDeaMhvoivi3m5sGU+rJgC8x6C5VOg32NwTop25yilwkZ4XPFqDCx+Ct4eCpVqw4iFcOkLRSd4gKhY211z/cdw42dQoRq8dz28c439NqCUUmEgPJL8t6/DF/+A1kPg5vlQr13pXp/YFUZ8CRdNgPR58NL5sHOlM7EqpVQAhUeSb3cVDHoBLn/Zzp4pi8goOO8vcNPnIBHw3wGwdrp/41RKqQALjyQfFQvtr/VPX3qDjnDrl5DQCT64CZb+23YHKaVCzolSwydujz/+eJH7fvTRR2zYsOHk44ceeoj58+f7HMOBAwd48cUXS/26v//97zz11FM+tx8WSd7vy/dVqA7XfggtL4W5D8DCx/zzvkqpgDpRavjEbdy4cUXue3qSf+SRR+jTp4/PMZQ1yftLWCR5R8qTRntgyKvQ/jpY/AQsKvoMQCkVWsaNG0fLli1p27Ytd999N0uXLmXmzJncc889JCUlsXXrVoYPH8706bbLtnHjxowfP56kpCSSk5P59ttv6du3L02bNmXy5MkAZGdn07t3bzp06ECbNm34+OOPT7a1detWkpKSuOeeewB48skn6dSpE23btuVvf/vbybgeffRRmjdvTvfu3dm8ebNfPmtIz5N3fPm+iAi4ZJLtrln0T4iMgR5aZ02pUpszzl6U6E9120D/4k++TpQ1OGH8+PH06dOHGTNmsGnTJkSEAwcOUK1aNVJSUhg4cCBDhgwp9L0aNWpEWloaY8aMYfjw4Xz99dfk5OTQunVrRo4cicfjYcaMGVSpUoW9e/dy7rnnkpKSwuOPP866detIS0sDYO7cuaSnp7NixQqMMaSkpLB48WIqVarEO++8Q1paGnl5eXTo0IGOHTv6fJhCOskHpDxpRASkTILjubDgYajSANoN9d/7K6Ucc6K7pqC8vDw8Hg833XQTAwcOZODAYpe5OCklJQWANm3akJ2dTVxcHHFxccTGxnLgwAEqVarEfffdx+LFi4mIiGDXrl389NNPv3ufuXPnMnfuXNq3bw/YbwDp6ekcPnyYwYMHU7FixVPa81VIJ/mALd8XEQmDXoTsn+Dj2yCuji2HoJQqmTOccQdSVFQUK1asYMGCBUyfPp3nn3+eL7744oyvi42NBSAiIuLk/ROP8/LyePPNN8nKymLVqlVER0fTuHFjcnJ+P05ojGH8+PHceuutpzz/7LPP+vjJChfyffIBW74vKgaGToNazeDd6+Cn9c60o5RyVHZ2NgcPHmTAgAFMnDiR1atXA78vMVxaBw8eJD4+nujoaBYuXMiOHTsKfd++ffvyyiuvnFyxateuXezZs4fzzz+fjz76iF9//ZXDhw/zySef+PApfxPSZ/LgTHnSInmqwrD34eU/wttX2QuoKtZwtk2lVJmd3iffr18/br/9dgYNGkROTg7GGJ555hkArrrqKm655RYmTZp0csC1NIYNG8Yll1xCmzZtSE5OpkWLFgDUrFmTbt260bp1a/r378+TTz7Jxo0b6dq1K2CXKJw2bRodOnRg6NChtGvXjvj4eDp16uSHIxCANV5LI2TWeM1cBa/2g8RucO0HtjtHKXUKLTXsjNKWGg757hpXJHSEi5+GbQthwSNuR6OUUkXSJF9WHa6HjjfC18/auvVKKRWENMn7ov+/bPmDmX+F/d+7HY1SQSeYuoPDQVmOpyZ5X0TFwuVTAYEPbobjx9yOSKmg4fF42LdvnyZ6PzHGsG/fPjye0k0RD/nZNa6rnggpz8H7w2Hho9Dn7y4HpFRwSEhIIDMzk6ysLLdDCRsej4eEhIRSvcbRJC8iDYHXgTqAAaYYY55zsk1XtBoMWxfCV89CkwugaS+3I1LKddHR0TRp0sTtMMo9p7tr8oC7jDEtgXOB20SkpcNtuqPf41CrOcy41S4/qJRSQcDRJG+M2W2M+dZ7/zCwEWjgZJuuiakIQ16BXw/YgVjth1RKBYGADbyKSGOgPbD8tOdHiEiqiKSGYt/dKbXs67aG3g/C5lmw5l23Q1NKqcAkeRGpDHwA3GGMOVRwmzFmijEm2RiTXLt27UCE41e/q2V/7ihoeC7MHguHfnA3OKVUued4WQMRiQY+BT43xjxT3L4hU9aA39eyPyE2KoLNY5rD5O6QeB4Mm+6fZQmVUqoIrpU1EBEBpgIbz5TgQ82Ssb1ISaqPJ9oeQk90BIOS6rPk3l5Qsyn88RHYMh++fc3lSJVS5ZnT3TXdgOuAC0UkzXsb4HCbAXHGWvbJN9nplJ/fDz/vcDdYpVS55fTsmq+MMWKMaWuMSfLeZjvZZiAVW8s+IgIGvWDvfzqm0Nk2fl+AXCmlTqOlhp22fArMuQcGT/ndsoEPzFjLmysyGNa5ERMGt3EpQKVUqCuuT16TvNPyj8Mr/WDfFhi9EirVKn7Q1h8LkCulyhWtJ++miEi7EHjuYfhsPHCGQVullPIjTfKBEH8O9LgL1r4H6fMCtwC5Uqrc0yQfKD3uhFpn20HY3OzALUCulCrXtE8+kDKWwyt9octI6P+429EopcKE9skHi0ZdoNPNsHwy7FzpdjRKqXJAk3yg9X4IqtSHT27XlaSUUo7TJB9onip2bdg96+0ZvVJKOUiTvBtaDITm/WDhP+HATrejUUqFMU3ybhCB/k+AyYfPxrkdjVIqjGmSd0v1RLhgLGz6FDbPcTsapVSY0iTvpq6joXYLu8DI0V/cjkYpFYY0ybspKgYufgYOZsDiJ92ORikVhjTJu61xN0gaBkv/DXs2uh2NUirMaJIPBn98BGLj4NM7C607r5RSZaVJPhhUqmUTfcZSSHvL7WiUUmHE8SQvIv1EZLOIbBERnS9YlKRroWEXmPsAHNnvdjRKqTDh9ELekcALQH+gJXC1iLR0ss2QFREBAydCzkGY95Db0SilwoTTZ/KdgS3GmG3GmKPAO8Agh9sMXXVaQddR8L83IGOZ29EopcKA00m+AVDwuv1M73MnicgIEUkVkdSsrCyHwwkBF4yDKgm27rwWMFNK+cj1gVdjzBRjTLIxJrl27dpuh+O+2Mow4AnYswGWveh2NEqpEOd0kt8FNCzwOMH7nCpOi4vh7AGw6HE4kOF2NEqpEOZ0kl8JNBORJiISA1wFzHS4zfDQ/wn7c/Y9OndeKVVmjiZ5Y0weMBr4HNgIvGeMWe9km2GjWkPoOR6++ww2zXI7GqVUiHK8T94YM9sY09wY09QY86jT7YWVc/8M8a1gzljIPex2NEqpEOT6wKsqRmQ0XPIsHNpl++eVUqqUNMkHu4adoeNwWPYf2L3G7WiUUiFGk3wo6P03qFDdzp3PPw7AnkM5XPnSN+w5nONycEqpYKZJPhRUrAF9H4NdqbDqvwBMWpDOyu37mTQ/3d3YlFJBTUwQTc9LTk42qampbocRnIyB11M4tC2VC3OfZi9VT9kcGxXB5gn9XQpOKeUmEVlljEkubJueyYcKEbj4GeKi8pgc/wGeaPur80RHMCipPkvu7eVygEqpYKRJPpTUaoZ0H0PyofkkH19NbFQEuXn5xMVGER/ncTs6pVQQ0iQfarrfyU/RDXg2bhofjejIsC6JZGXnuh2VUipIRbkdgCqlaA91rnoe3hhMra1TmXDpeLcjUkoFMT2TD0VNL4TWQ+CrZ2Cvzq5RShVNk3yo6vsYRFeEmX+B/Hy3o1FKBSlN8qEqro5N9BnfQOpUt6NRSgUpTfKhLOkaOKsXzP87HNh5xt2VUuWPJvlQJgKXPAcm35Y8CKIL25RSwUGTfKirngi9H4It82Dt+25Ho5QKMprkw0HnEZDQCebcC7/sdTsapVQQ0SQfDiIiIeV5OJptE71SSnlpkg8X8S2gx92wbjps/sztaJRSQcKxJC8iT4rIJhFZIyIzRKSaU20pr+5jIL6lHYTNOeh2NEqpIODkmfw8oLUxpi3wHaDX3zstKsZ222T/CJ/f53Y0Sqkg4FiSN8bMNcbkeR8uAxKcaksVkNARut0B/5sGm+e4HY1SymWB6pP/E1BoxhGRESKSKiKpWVlZAQonzPUcB3Vaw8y/wpH9bkejlHKRT0leROaLyLpCboMK7HM/kAe8Wdh7GGOmGGOSjTHJtWvX9iUcdUJULAyeDL/+DLPudDsapZSLfCo1bIzpU9x2ERkODAR6m2BaZ7A8qNvGntF/8Q845xJofbnbESmlXODk7Jp+wFggxRhzxKl2VDG63QENkmHWXXD4R7ejUUq5wMk++eeBOGCeiKSJyGQH21KFiYyy3TbHcmxJYv0ypVS54+Tsmj8YYxoaY5K8t5FOtaWKUasZ/PFhSJ8LK6a4HY1SKsD0itfyoPMIaNYX5j4IP65zOxqlVABpki8PRODSF6FCNZj+JziqQyRKlRea5MuLSrVs//zezXo1rFLliCb58qTphXDeX2HVq7BhptvRKKUCQJN8eXPhg1C/vZ1tczDT7WiUUg7TJF/eRMXA5VMhPw/evxHyjrodkVLKQZrky6OaTSHl35C5AuY96HY0SikHaZIvr1pfBueOguWTYe10t6NRSjlEk3x59sdHoOG5tlrlnk1uR6OUcoAm+XJqz6Ecrnw5lb39J0NMRXj3Wsg97HZYSik/0yRfTk1akM7K7ft5dnk2DHkV9m+Fj2/T+jZKhRmfSg2r0HP2A3PIzcs/+Xja8gymLYfboq/ing1vweKn4IJ7XIxQKeVPeiZfziwZ24uUpPp4ou2v3hMdwaCk+txwzzPQdigsnAAbPnY5SqWUv2iSL2fiq3iIi40iNy+f2KgIcvPyiYuNIr5KBbhkEiR0ghkjYfdqt0NVSvmBJvlyaG92LsO6JDJjVDeGdUkkKzvXboj2wNA3oUINePtqXWhEqTAgwbQqX3JysklNTXU7DLV7DbzSF2q3gOGfQkwltyNSShVDRFYZY5IL26Zn8ur36rW1pQ92p8H7w+H4MbcjUkqVkeNJXkTuEhEjIrWcbkv5UYsBcPEzdkWpT27XqZVKhShHp1CKSEPgIiDDyXaUQ5JvtP3yXz4OcXWh90NuR6RUeMo5CJ6qjry102fyE4GxgJ4Ghqqe46DDDbDkaVgW2mux7zmUw5UvfcOewzluh6LUb/Lz4bl2MM+ZkyjHkryIDAJ2GWOKnYsnIiNEJFVEUrOyspwKR5WViO22aTEQPrsXUl91O6IyO3GV76T56W6HotRvsjbBrz/biQ4O8Km7RkTmA3UL2XQ/cB+2q6ZYxpgpwBSws2t8iUc5JDIKhrxi69t8OgYiY6D9MLejKrHCr/LNIDYqgs0T+rsYmVJAxjf2Z6Oujry9T2fyxpg+xpjWp9+AbUATYLWIbAcSgG9FpLA/CCoURMXClW/AWT1tjZs177kdUYkVdZXvknt7uRyZUtgkX7kuVG/syNs70l1jjFlrjIk3xjQ2xjQGMoEOxhi9uiaURXvgqregcXeYcSused/tiEqkyKt84zxuh6YU7PgGErvarlEH6Dx5VToxFeGadyGxG3x4C6yc6nZEJVLkVb5KuelABhzKhEbnOdZEQKpQes/mVbiIqQTD3rcXSs26007/6nGn21EV66XrfrsYcMKlrV2MRKkCMpbZn43OdawJPZNXZRNdAYZOgzZXwIKH7fQvvWBKqdLZsRRiq0CdVo41ofXkVdlFRsPgKfYijq+fg0O77QLh0drXrVSJZHwDDTtDRKRjTeiZvPJNRAQMeAoufBDWvgevXQLZer2DUmd0ZL+dI+/Q1MkTNMkr34nA+XfDFa/Bj2vh5Qvhpw1uR6VUcNux1P5MdG7QFTTJK39qdSncOAvycmHqRbB+htsRKRW8vv8SoitCg0IrBPuNJnnlXw06wi0LIb6FnX0z+x6b9L20foxSXtu+tF01UTGONqNJXvlf1QYwfDZ0HQ0rptgFSPZ/D2j9GKUAO0lh72Y46wLHm9LZNcoZUTHQ91F7pvLRKLKf68o/8q7l3eM9AdH6Map8+36x/dnE+SSvZ/LKWecMhJFLiGnUgX9F/x9vxD5BPfaFXP0Y7WZSfvX9l1ChOtRt63hTmuSV86onEnPjp8xsMIaObGJu7Fguy59HlRgJmfox2s2k/MYY2x/fuIedguww7a5RgRERwSzPQNJbdmXkgYk8tnsqOzYthoznHb2k21daplj53f5ttl5NjzEBaU7P5FXAvHRdMncN7UulEXPg8qkkxv5iB2U/uAUOZrodXqG0TLHyu22L7M8mPQPSnCZ5FXgi0GYI/CUVetwNGz6GSe1h1t1w6Ae3ozuFlilWfrf1C6iSADWbBqQ5TfKq1Pw2CBlTCXo/aJN90jWw6lV4Lgnm3GtLsAYJLVOs/CYv157JN/ujY/XjTycmiCoHJicnm9TUVLfDUGfwwIy1vLkig2GdGzFhcBv/vfHP22HxU5D2FmCgxcXQZaStXR+g/xBKOWrbInh9EFz9DpztvzEdEVlljCn00llN8qrETh+EPMHvg5AHdkLqVFj1X7vAcZ3W9ky/9RCIq+O/dpQKtM/vtxcI3rvdfpP1k+KSvHbXqBIL2CBktYbQ5+9w50ZbujgyGj6/D55pAW9cBmlv2wp+SoWa7z63y2f6McGfiaNTKEXkL8BtwHFgljFmrJPtKWcFfBAyugJ0uN7esr6DNe/aBcQ/GgkSAQmdoXlf+EMfu+iCgzW5lfLZ/m2wLx063RTQZh1L8iLSCxgEtDPG5IpIvFNtqcA5MQh5TedGvLUig6xAXQFau7kdpO11P+xOs2dE382xq1IteBhiq0KjLrZsa4OOtounYo3AxKZUSaTPtz+bXRTQZh3rkxeR94Apxpj5JX2N9smrUjv0A3y/BDKW2vrce7/7bVvVhjbZ12llp6tVbwI1mkDlOjqQqwJv2hB7Nv/Xb/3+1sX1yTvZXdMc6CEijwI5wN3GmJUOtqfKoyr1od1QewP4Za890/9xnV3A5Kd1kD4XzPHfXhNdEaom2GR/8hZvb56qv91iq/z2MwCXn6swlnPI1qvpdEvAm/YpyYvIfKBuIZvu9753DeBcoBPwnoicZU776iAiI4ARAI0aNfIlHBXm9hzKYfTb/+P5a9oXPQ5QqZbto/9Dn9+eyzsKB3facsc/f29/HsqE7D2waxVk/wTHjhTfeGwVb9KvArFx3sdxBR5XLfC4yqn3PVWhQo1y9YeiRL+r8iR9Lhw/Ci1TAt60T0neGNOnqG0i8mfgQ29SXyEi+UAt4JQFQI0xU4ApYLtrfIlHhbeCRcJKNT8/KsZ21xR3hWFuNvyyB3IO2rOunIOQe6jwx7mH4che+wcj55B9nPdrsSHkEYlUrkNk1XoQV89+e4irZ7uPajaFGk3tH4UwUebfVbja8LH9nSd0DnjTTvbJjwTqG2MeEpHmwAKg0eln8gVpn7wqTMDm5/si76hN9rmHvLfDJ/8AfLp8Azsyvqdr7WN0qJEDh3+0t19PmwZaKR5q/sGuqlWvHdRLgvhzICrWnc9UBiHxuwq0o0fgyabQ7moY+IwjTbjVJ/8K8IqIrAOOAjcUl+CVKsqSsb2YMHsjc9f/SM6xfDzREfRtVZf7Lz7H7dB+ExUDUTWhUs2TT9mEVxnobG+7gd0FEt6xX23X0f6tsG8L7PP+XPsBpL5i3yQi2ib6xPPslb+J3U5pI9iExO8q0LYusN2BLnTVgINJ3hhzFLjWqfdX5UeoFgk7Y8KLrgB1WtpbQcbYEg+702D3ajtusOo1WD7Zbq99DpzV014Wn3ievVgsSITq78pRG2baBUISu7vSvNaTVyHBtfn5PihzwhOxffU1mkCrwfa5vKPww/9gx1ew/StbzG35f+yAb7M+cPYAe2FYbJzzH+wMQvF35Zi8o/DdZ3BOCkS6k261do1SDrr1jVRqx3lOSXgvXVdo12npHP3FFrvaPBs2f2YHgqMrQouBdjppk56uJRVVwKZZ8M41MGy6rTzpEC1QplQ4yz8OO1fYsg/rP7QzgCrXgbZXQvJN9huBcsd719uL9O7c5OgfXS1QplQ4i4iExK5wybNwdzpc+QYkdIJl/7GLsbw1FLYsgPzfz3pRDvr1gP2W1XqIq9+q9PucUuEkKtbO4miZYks+pL5q+++nXQY1m0HX22zZ5hCalhmyNnwMx3PtNyoX6Zm8UuGqSn248H4Ysx4GT4HYyvDpHXb1rWWT7fxt5Zw170Kt5lC/vathaJJXKoj5ZanFqFg7GHvLQrhuBlRvDJ/dC8+1ha+f02TvhJ93wI6v7Vm8y8XwNMkrFcQKlgfwmQg0vRD+NAeGz7YVOuc9BP/uCN++YQdwlX+sfsf+bONuVw3o7BqlglLAygNs/xrmPWgvuIpvaVfkanaR62efIe14nv2WVPts+80pAHR2jVIhJmBLLTbuBjcvgCteg7wceOtKeD0F9mzybzvlSfpcOLTLTl8NAprklQpCAS0PIAKtLoXbVkD/J2H3GpjczS46nXvY/+2Fu9SptsJo835uRwJoklcqaJ0oDzBjVDeGdUkkKzvX2QYjo6HLCPjLKjvN8psX4N/JsOZ9W09Hndn+7+01CR1uCJorjrVPXilVuMxVMPsuWzPnrF5wyXNQPdHtqILbvL/B0n/DmHV2CmuAaJ+8UqrU9lRpxdD8CRzu/ThkroQXz4VvXtRZOEXJzbYXnrUYENAEfyaa5JUKY77Ms5+0IJ0VOw7yr73dYdQyaNwdPh8PUy+CPRsdiDbEffuarRvU7Q63IzmFdtcoFcYemLGWN1dkMKxzoxIvw1f09E1h85W/2Aupcg7BBWOh+51B0/fsquPH4Ll2UL0J3Dgr4M1rFUqlyhlf5tnvOZRT5GIn8XEe+GUvzLkX1k2HBh1h8EtQq5lTHyU0pL0NH42Ea96H5hcFvHntk1eqnPFlnv0Zp29WqgVDpsKQV2H/NpjcA5a/VH6rXObn2/IQ8S0drRlfVo4leRFJEpFlIpImIqkiEvhlypUqp3ydZ1+i6ZutL7N99U16wJyxMG0wHMz08ycJAes/hKyNHOw4miunLPOtzpADHOuuEZG5wERjzBwRGQCMNcb0LO412l2jlP84tirV6Yyxg46f3QcRUTDgyaAozBUQx4/B850gphIP1nmRaSszSzX+4S+u9MmLyOfAK8aYd0XkauASY8w1xb1Gk7xSIWz/NpjxZ9i5zK5pOvBZqFTT7aiclfoKfDqGG4/ew8L8U0sK+73OUDHc6pO/A3hSRHYCTwHjiwhuhLc7JzUrK8vBcJRSjqpxFtw42xY52zwH/tMV0ue7HZVzjh6BRf/iaIMuxLUZ4HydoTLyKcmLyHwRWVfIbRDwZ2CMMaYhMAaYWth7GGOmGGOSjTHJtWvX9iUcpZTbIiKh+xgYsRAq1oQ3L4dZd9mFx8PNVxMh+0diLnqYOE90YOoMlYFPE1yNMX2K2iYirwO3ex++D7zsS1tKqRBSt41dpOSLf4rmYXYAAAp1SURBVNgaOFsXwmVTIMGBMQE37N0CXz9r68UndmXv4lSGdUk8ZfwjWDjZJ78R+LMxZpGI9AaeMMZ0LO412ievVBj6frHtqz+8G86/B86/2xZDC1XGwOuD4Ic0GL0S4uq4HZFrffK3AE+LyGrgMWCEg20ppYJVk/Nh1FJocwV8+bgti7DXDytdOaBEZSDWvg/ffwm9HwyKBH8mjiV5Y8xXxpiOxph2xpguxphVTrWllApynqpw2UtwxX/h5+/tBVQr/i/oShifcbnFAzth1t3QIBmS/xTY4MpIyxoopQLr0G74+DbYugCa9oZBL0CVen57+z2Hchj99v94/pr2JR78LFEZiPzj8N+B8OMaGLnEziYKElrWQCkVPKrUg2s/gIufhh1L7VTL9R/57e3Lsvh5icpALHkaMpbauIMowZ+Jlo9TSgWeCHS6GZpcAB+OgPdvgM1Dod/jULFGmd7y9LPxacszmLY8o0QXJZ2xDMSmWbDwMTuu0HZomeJzi57JK6XcU6sZ3DQXeo6HtdNtiYDV75apr97Xxc+LrNfzQxp8cDPUbw+XTAq5cg16Jq+UcldkNPQcBy0Gwie3w4wRkPYmDJwINZuW+G18LcpWsK7PhEtb2zv7v4e3r7IXdl39DsRULNVHCwZ6Jq+UCg51W9uz+ouftuvKvtgVFv6zVFfL+nXx8/3b7EBrXg5c815ITJcsjM6uUUoFn8M/wmfjbRnfynXhwvshaZgtmxAIu76Ft4ZC/jG4fibUaxuYdstIZ9copUJLXF244lX401yo1hBm/sXOrd802/nFSVa/A/+9GKI8cONnQZ/gz0STvFIqeDXqAjfNsxdRHfsF3rkaJneHNe/D8Tz/tvXLXvjgFphxqx1kvXk+xLfwbxsu0O4apVRoOH4M1n1gqz9mbYIqDWwXTvtroXpi2d/32K+w8mU7Dz43G3rcZWvshNAC5bqQt1IqfOTnw3dzIPVV2OKtV594HjTvB80uglrNIeIMnRT5+bA7zXbNrHkXcg7AWb2g3z8h/hznP4OfaZJXSoWnAzsh7S3YOBN+Wmefi60KDdrbq1KrJkBMnE36R4/AoR9g/1bYuRxyDkJkLJwz0F6YlXieu5/FB5rklVLh70CGLWucmWqnYB7cCUf2nbpPdCWo1ggadrZJvdlFZb7CNpgUl+RDp9NJKaWKU62R7Z9vf+1vzx09AseOgMmHqFiIrRJyV6z6SpO8Uip8xVQMyatU/UmnUCqlVBjTJK+UUmHMpyQvIleIyHoRyReR5NO2jReRLSKyWUT6+hamUkqpsvC1T34dcBnwUsEnRaQlcBXQCqgPzBeR5saY4z62p5RSqhR8OpM3xmw0xmwuZNMg4B1jTK4x5ntgC9DZl7aUUkqVnlN98g2AnQUeZ3qf+x0RGSEiqSKSmpWV5VA4SilVPp2xu0ZE5gN1C9l0vzHmY18DMMZMAaaAvRjK1/dTSin1mzMmeWNMnzK87y6gYYHHCd7nlFJKBZBT3TUzgatEJFZEmgDNgBUOtaWUUqoIvk6hHCwimUBXYJaIfA5gjFkPvAdsAD4DbtOZNUopFXi+zq6ZYYxJMMbEGmPqGGP6Ftj2qDGmqTHmbGPMHN9DVUqVF3sO5XDlS9+w53CO26GEPL3iVSkVdCYtSGfl9v1Mmp/udighTwuUKaWCxtkPzCE377c1XKctz2Da8gxioyLYPKG/i5GFLj2TV0oFjSVje5GSVB9PtE1NnugIBiXVZ8m9vVyOLHRpkldKBY34Kh7iYqPIzcsnNiqC3Lx84mKjiI/zuB1ayNLuGqVUUNmbncuwLolc07kRb63IIEsHX32iy/8ppVSIK275P+2uUUqpMKZJXimlwpgmeaWUCmOa5JVSKoxpkldKqTCmSV4ppcJYUE2hFJEsYEcZX14L2OvHcPwpWGPTuEpH4yodjav0yhpbojGmdmEbgirJ+0JEUouaJ+q2YI1N4yodjat0NK7ScyI27a5RSqkwpkleKaXCWDgl+SluB1CMYI1N4yodjat0NK7S83tsYdMnr5RS6vfC6UxeKaXUaTTJK6VUGAvZJC8iT4rIJhFZIyIzRKRaEfv1E5HNIrJFRMYFIK4rRGS9iOSLSJFToURku4isFZE0EQlIfeVSxBboY1ZDROaJSLr3Z/Ui9jvuPV5pIjLTwXiK/fwiEisi73q3LxeRxk7FUsq4hotIVoFjdHMAYnpFRPaIyLoitouITPLGvEZEOjgdUyli6ykiBwscr4cCEFNDEVkoIhu8/xdvL2Qf/x4zY0xI3oCLgCjv/X8B/ypkn0hgK3AWEAOsBlo6HNc5wNnAIiC5mP22A7UCfMzOGJtLx+wJYJz3/rjCfpfebdkBOEZn/PzAKGCy9/5VwLtBEtdw4PkA/5s6H+gArCti+wBgDiDAucDyIIqtJ/BpgI9XPaCD934c8F0hv0e/HrOQPZM3xsw1xuR5Hy4DEgrZrTOwxRizzRhzFHgHGORwXBuNMZudbKOsShhbwI+Z9/1f895/DbjU4faKU5LPXzDe6UBvEZEgiCvgjDGLgf3F7DIIeN1Yy4BqIlIvSGILOGPMbmPMt977h4GNQIPTdvPrMQvZJH+aP2H/8p2uAbCzwONMfn9A3WKAuSKySkRGuB1MAW4cszrGmN3e+z8CdYrYzyMiqSKyTESc+kNQks9/ch/vicZBoKZD8ZQmLoDLvV/xp4tIQ4djKolg/j8I0FVEVovIHBFpFciGvd187YHlp23y6zEL6jVeRWQ+ULeQTfcbYz727nM/kAe8GUxxlUB3Y8wuEYkH5onIJu+ZRzDE5nfFxVXwgTHGiEhR83oTvcfsLOALEVlrjNnq71hD2CfA28aYXBG5Fftt40KXYwpm32L/TWWLyADgI6BZIBoWkcrAB8AdxphDTrYV1EneGNOnuO0iMhwYCPQ23s6s0+wCCp7NJHifczSuEr7HLu/PPSIyA/t13Ock74fYAn7MROQnEalnjNnt/Vq6p4j3OHHMtonIIuxZkL+TfEk+/4l9MkUkCqgK7PNzHKWOyxhTMIaXsWMdbnPk35M/FEyuxpjZIvKiiNQyxjhavExEorEJ/k1jzIeF7OLXYxay3TUi0g8YC6QYY44UsdtKoJmINBGRGOwgmWOzMkpKRCqJSNyJ+9hB5EJnALjAjWM2E7jBe/8G4HffOESkuojEeu/XAroBGxyIpSSfv2C8Q4AvijjJCGhcp/XbpmD7e902E7jeO2PkXOBgga45V4lI3RNjKSLSGZsPHf1j7W1vKrDRGPNMEbv595gFcmTZnzdgC7bfKs17OzHboT4wu8B+A7Aj2FuxXRZOxzUY24eWC/wEfH56XNgZEqu9t/WBiKuksbl0zGoCC4B0YD5Qw/t8MvCy9/55wFrvMVsL3ORgPL/7/MAj2BMKAA/wvvff4ArgrAD9/s4U1z+9/55WAwuBFgGI6W1gN3DM+2/rJmAkMNK7XYAXvDGvpZgZZy7ENrrA8VoGnBeAmLpjx+PWFMhdA5w8ZlrWQCmlwljIdtcopZQ6M03ySikVxjTJK6VUGNMkr5RSYUyTvFJKhTFN8kopFcY0ySulVBj7f6xGGd2NoIDQAAAAAElFTkSuQmCC\n",
                  "text/plain": "<Figure size 432x288 with 1 Axes>"
                },
                "metadata": {
                  "needs_background": "light"
                }
              },
              {
                "output_type": "stream",
                "name": "stdout",
                "text": [
                  "f(x) = -6.098932 +-0.290451x^1 +0.343101x^2 +-2.953713x^3 +0.286114x^4 +0.645420x^5\n"
                ]
              }
            ],
            "_view_module": "@jupyter-widgets/output",
            "_model_module_version": "1.0.0",
            "_view_count": null,
            "_view_module_version": "1.0.0",
            "layout": "IPY_MODEL_707229e06433457d9439b56ad63fcfca",
            "_model_module": "@jupyter-widgets/output"
          }
        },
        "e95992263c8045bdb365441f1c23deb3": {
          "model_module": "@jupyter-widgets/controls",
          "model_name": "SliderStyleModel",
          "model_module_version": "1.5.0",
          "state": {
            "_view_name": "StyleView",
            "handle_color": null,
            "_model_name": "SliderStyleModel",
            "description_width": "",
            "_view_module": "@jupyter-widgets/base",
            "_model_module_version": "1.5.0",
            "_view_count": null,
            "_view_module_version": "1.2.0",
            "_model_module": "@jupyter-widgets/controls"
          }
        },
        "19a8ee77fd68436189a512f2d244afb4": {
          "model_module": "@jupyter-widgets/base",
          "model_name": "LayoutModel",
          "model_module_version": "1.2.0",
          "state": {
            "_view_name": "LayoutView",
            "grid_template_rows": null,
            "right": null,
            "justify_content": null,
            "_view_module": "@jupyter-widgets/base",
            "overflow": null,
            "_model_module_version": "1.2.0",
            "_view_count": null,
            "flex_flow": null,
            "width": null,
            "min_width": null,
            "border": null,
            "align_items": null,
            "bottom": null,
            "_model_module": "@jupyter-widgets/base",
            "top": null,
            "grid_column": null,
            "overflow_y": null,
            "overflow_x": null,
            "grid_auto_flow": null,
            "grid_area": null,
            "grid_template_columns": null,
            "flex": null,
            "_model_name": "LayoutModel",
            "justify_items": null,
            "grid_row": null,
            "max_height": null,
            "align_content": null,
            "visibility": null,
            "align_self": null,
            "height": null,
            "min_height": null,
            "padding": null,
            "grid_auto_rows": null,
            "grid_gap": null,
            "max_width": null,
            "order": null,
            "_view_module_version": "1.2.0",
            "grid_template_areas": null,
            "object_position": null,
            "object_fit": null,
            "grid_auto_columns": null,
            "margin": null,
            "display": null,
            "left": null
          }
        },
        "2d09a1010fb24623978296a7959c384d": {
          "model_module": "@jupyter-widgets/controls",
          "model_name": "DescriptionStyleModel",
          "model_module_version": "1.5.0",
          "state": {
            "_view_name": "StyleView",
            "_model_name": "DescriptionStyleModel",
            "description_width": "",
            "_view_module": "@jupyter-widgets/base",
            "_model_module_version": "1.5.0",
            "_view_count": null,
            "_view_module_version": "1.2.0",
            "_model_module": "@jupyter-widgets/controls"
          }
        },
        "7235dad6a0854cd1b326c26a59b1ac64": {
          "model_module": "@jupyter-widgets/base",
          "model_name": "LayoutModel",
          "model_module_version": "1.2.0",
          "state": {
            "_view_name": "LayoutView",
            "grid_template_rows": null,
            "right": null,
            "justify_content": null,
            "_view_module": "@jupyter-widgets/base",
            "overflow": null,
            "_model_module_version": "1.2.0",
            "_view_count": null,
            "flex_flow": null,
            "width": null,
            "min_width": null,
            "border": null,
            "align_items": null,
            "bottom": null,
            "_model_module": "@jupyter-widgets/base",
            "top": null,
            "grid_column": null,
            "overflow_y": null,
            "overflow_x": null,
            "grid_auto_flow": null,
            "grid_area": null,
            "grid_template_columns": null,
            "flex": null,
            "_model_name": "LayoutModel",
            "justify_items": null,
            "grid_row": null,
            "max_height": null,
            "align_content": null,
            "visibility": null,
            "align_self": null,
            "height": null,
            "min_height": null,
            "padding": null,
            "grid_auto_rows": null,
            "grid_gap": null,
            "max_width": null,
            "order": null,
            "_view_module_version": "1.2.0",
            "grid_template_areas": null,
            "object_position": null,
            "object_fit": null,
            "grid_auto_columns": null,
            "margin": null,
            "display": null,
            "left": null
          }
        },
        "6bea55c97a9e4c20827440c8039dfeaf": {
          "model_module": "@jupyter-widgets/controls",
          "model_name": "SliderStyleModel",
          "model_module_version": "1.5.0",
          "state": {
            "_view_name": "StyleView",
            "handle_color": null,
            "_model_name": "SliderStyleModel",
            "description_width": "",
            "_view_module": "@jupyter-widgets/base",
            "_model_module_version": "1.5.0",
            "_view_count": null,
            "_view_module_version": "1.2.0",
            "_model_module": "@jupyter-widgets/controls"
          }
        },
        "9ad187fb88f04ab085da55221b990d24": {
          "model_module": "@jupyter-widgets/base",
          "model_name": "LayoutModel",
          "model_module_version": "1.2.0",
          "state": {
            "_view_name": "LayoutView",
            "grid_template_rows": null,
            "right": null,
            "justify_content": null,
            "_view_module": "@jupyter-widgets/base",
            "overflow": null,
            "_model_module_version": "1.2.0",
            "_view_count": null,
            "flex_flow": null,
            "width": null,
            "min_width": null,
            "border": null,
            "align_items": null,
            "bottom": null,
            "_model_module": "@jupyter-widgets/base",
            "top": null,
            "grid_column": null,
            "overflow_y": null,
            "overflow_x": null,
            "grid_auto_flow": null,
            "grid_area": null,
            "grid_template_columns": null,
            "flex": null,
            "_model_name": "LayoutModel",
            "justify_items": null,
            "grid_row": null,
            "max_height": null,
            "align_content": null,
            "visibility": null,
            "align_self": null,
            "height": null,
            "min_height": null,
            "padding": null,
            "grid_auto_rows": null,
            "grid_gap": null,
            "max_width": null,
            "order": null,
            "_view_module_version": "1.2.0",
            "grid_template_areas": null,
            "object_position": null,
            "object_fit": null,
            "grid_auto_columns": null,
            "margin": null,
            "display": null,
            "left": null
          }
        },
        "707229e06433457d9439b56ad63fcfca": {
          "model_module": "@jupyter-widgets/base",
          "model_name": "LayoutModel",
          "model_module_version": "1.2.0",
          "state": {
            "_view_name": "LayoutView",
            "grid_template_rows": null,
            "right": null,
            "justify_content": null,
            "_view_module": "@jupyter-widgets/base",
            "overflow": null,
            "_model_module_version": "1.2.0",
            "_view_count": null,
            "flex_flow": null,
            "width": null,
            "min_width": null,
            "border": null,
            "align_items": null,
            "bottom": null,
            "_model_module": "@jupyter-widgets/base",
            "top": null,
            "grid_column": null,
            "overflow_y": null,
            "overflow_x": null,
            "grid_auto_flow": null,
            "grid_area": null,
            "grid_template_columns": null,
            "flex": null,
            "_model_name": "LayoutModel",
            "justify_items": null,
            "grid_row": null,
            "max_height": null,
            "align_content": null,
            "visibility": null,
            "align_self": null,
            "height": null,
            "min_height": null,
            "padding": null,
            "grid_auto_rows": null,
            "grid_gap": null,
            "max_width": null,
            "order": null,
            "_view_module_version": "1.2.0",
            "grid_template_areas": null,
            "object_position": null,
            "object_fit": null,
            "grid_auto_columns": null,
            "margin": null,
            "display": null,
            "left": null
          }
        }
      }
    }
  },
  "cells": [
    {
      "cell_type": "markdown",
      "metadata": {
        "id": "view-in-github",
        "colab_type": "text"
      },
      "source": [
        "<a href=\"https://colab.research.google.com/github/eovallemagallanes/pattern-recognition/blob/main/Polynomial_Regression.ipynb\" target=\"_parent\"><img src=\"https://colab.research.google.com/assets/colab-badge.svg\" alt=\"Open In Colab\"/></a>"
      ]
    },
    {
      "cell_type": "code",
      "execution_count": 1,
      "metadata": {
        "id": "Ddi6ctaDI2MS"
      },
      "outputs": [],
      "source": [
        "import numpy as np\n",
        "import matplotlib.pyplot as plt\n",
        "\n",
        "def transform(X, degree):\n",
        "    m, n = X.shape  \n",
        "    X_transform = np.ones((m, 1)) \n",
        "    j = 0     \n",
        "    for j in range(degree + 1) :\n",
        "        if j != 0 :\n",
        "            x_pow = np.power(X, j)  \n",
        "            # append x_pow to X_transform  \n",
        "            X_transform = np.append(X_transform, x_pow.reshape(-1, 1), axis = 1)\n",
        "    \n",
        "    return X_transform  "
      ]
    },
    {
      "cell_type": "code",
      "source": [
        "def gendata(degree):\n",
        "    B = np.random.randint(low=-10, high=10, size=(degree+1, 1))\n",
        "    X = np.arange(-2, 2, 0.2)\n",
        "    X = np.expand_dims(X, axis=-1)\n",
        "    Y = transform(X, degree)@B \n",
        "    noise = np.random.normal(0,1,len(Y))# 5*np.random.rand(*Y.shape)\n",
        "    noise = np.expand_dims(noise, axis=-1)\n",
        "    Y = Y + noise\n",
        "\n",
        "    return X, Y, B\n"
      ],
      "metadata": {
        "id": "drNmwncdPnlp"
      },
      "execution_count": 47,
      "outputs": []
    },
    {
      "cell_type": "code",
      "source": [
        "def fitting(X, Y, degree, regularization=False, l=0.01):\n",
        "    X_transform = transform(X, degree)\n",
        "    print('Regularization: ', regularization)\n",
        "    if regularization:\n",
        "        B = np.linalg.inv(X_transform.T@X_transform + l*np.eye(degree+1))@(X_transform.T@Y)\n",
        "    else:\n",
        "        B = np.linalg.inv(X_transform.T@X_transform)@(X_transform.T@Y)\n",
        "\n",
        "    return B"
      ],
      "metadata": {
        "id": "aMEyswA6XoFV"
      },
      "execution_count": 3,
      "outputs": []
    },
    {
      "cell_type": "code",
      "source": [
        "def mse(X, Y, B):\n",
        "    degree = len(B) - 1\n",
        "    X_transform = transform(X, degree)\n",
        "    Y_hat = X_transform@B\n",
        "    err = np.linalg.norm(Y-Y_hat)\n",
        "    return err"
      ],
      "metadata": {
        "id": "NcEg5rsOaAUX"
      },
      "execution_count": 4,
      "outputs": []
    },
    {
      "cell_type": "code",
      "source": [
        "def printpoly(B):\n",
        "    print('f(x) = %f +' %(B[0]), end='')\n",
        "    for i, b in enumerate(B[1:-1]):\n",
        "        print('%fx^%d +' %(b, i+1), end='')\n",
        "    print('%fx^%d' %(B[-1], len(B)-1)) "
      ],
      "metadata": {
        "id": "eCVkgeyGbtjI"
      },
      "execution_count": 5,
      "outputs": []
    },
    {
      "cell_type": "code",
      "source": [
        "from ipywidgets import widgets\n",
        "from ipywidgets import interact, interactive, fixed, interact_manual\n",
        "from ipywidgets import FloatSlider, Checkbox, IntSlider, ToggleButton"
      ],
      "metadata": {
        "id": "lWn_s1jIH-1g"
      },
      "execution_count": 6,
      "outputs": []
    },
    {
      "cell_type": "code",
      "source": [
        "def runner(X, Y, degree_fit, reg, l):\n",
        "    # apply polynomial fitting\n",
        "    B = fitting(X, Y, degree_fit, reg, l)\n",
        "    print('B:\\n', B)\n",
        "    err = mse(X, Y, B)\n",
        "    print('MSE: ', err)\n",
        "\n",
        "    # plot data & fitting\n",
        "    x_eval = np.arange(-2, 2, 0.01)\n",
        "    x_eval = np.expand_dims(x_eval, axis=-1)\n",
        "    Y_hat = transform(x_eval, degree_fit)@B\n",
        "\n",
        "    plt.plot(X, Y, '*', label='Data')\n",
        "    plt.plot( x_eval, Y_hat, label='Estimated')\n",
        "    plt.legend()\n",
        "    plt.show()\n",
        "\n",
        "    printpoly(B)\n",
        "    return B"
      ],
      "metadata": {
        "id": "Kro6i5aDIRac"
      },
      "execution_count": 51,
      "outputs": []
    },
    {
      "cell_type": "code",
      "source": [
        "degree_real = 2\n",
        "X, Y, B_real = gendata(degree_real)\n",
        "printpoly(B_real)\n",
        "plt.plot(X, Y, '*')\n",
        "plt.show()"
      ],
      "metadata": {
        "colab": {
          "base_uri": "https://localhost:8080/",
          "height": 317
        },
        "id": "IVzXJPvhQvqA",
        "outputId": "c6634806-8544-4b83-82b5-e8891032b92a"
      },
      "execution_count": 49,
      "outputs": [
        {
          "output_type": "stream",
          "name": "stdout",
          "text": [
            "(20, 1)\n",
            "(20, 1)\n",
            "f(x) = -6.000000 +-3.000000x^1 +1.000000x^2\n"
          ]
        },
        {
          "output_type": "display_data",
          "data": {
            "image/png": "[encoded data removed]",
            "text/plain": [
              "<Figure size 432x288 with 1 Axes>"
            ]
          },
          "metadata": {
            "needs_background": "light"
          }
        }
      ]
    },
    {
      "cell_type": "code",
      "source": [
        "regularization_widget = Checkbox(value=False, description='Regularization', disabled=False, indent=False)\n",
        "degree_fit_widget = IntSlider(min=1, max=5, step=1, value=1, continuous_update=False)\n",
        "lambda_widget = FloatSlider(min=0.01, max=1, step=0.01, value=0.01, continuous_update=False)\n",
        "\n",
        "w2 = interactive(runner, X=fixed(X), Y=fixed(Y), degree_fit=degree_fit_widget, reg=regularization_widget, l=lambda_widget);\n",
        "display(w2)"
      ],
      "metadata": {
        "colab": {
          "base_uri": "https://localhost:8080/",
          "height": 538,
          "referenced_widgets": [
            "bd28af29f4244fee939b2225c15ecff5",
            "1fed7cb0c84b4713a1a9eed110dfe250",
            "878707d4f9ed40f9aa8ff266494579cc",
            "5f63ba434ea7480da2effd741d16f06c",
            "2a7585f4ce284e5d98ffd38cbddbc30e",
            "ed0a7b09a52240688db7419f87dc439f",
            "e95992263c8045bdb365441f1c23deb3",
            "19a8ee77fd68436189a512f2d244afb4",
            "2d09a1010fb24623978296a7959c384d",
            "7235dad6a0854cd1b326c26a59b1ac64",
            "6bea55c97a9e4c20827440c8039dfeaf",
            "9ad187fb88f04ab085da55221b990d24",
            "707229e06433457d9439b56ad63fcfca"
          ]
        },
        "id": "pjOEckfTH_Xk",
        "outputId": "bcacd055-7cb2-43d9-af35-07e54bb2eedf"
      },
      "execution_count": 52,
      "outputs": [
        {
          "output_type": "display_data",
          "data": {
            "application/vnd.jupyter.widget-view+json": {
              "model_id": "bd28af29f4244fee939b2225c15ecff5",
              "version_minor": 0,
              "version_major": 2
            },
            "text/plain": [
              "interactive(children=(IntSlider(value=1, continuous_update=False, description='degree_fit', max=5, min=1), Che…"
            ]
          },
          "metadata": {}
        }
      ]
    }
  ]
}