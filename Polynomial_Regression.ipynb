{
  "nbformat": 4,
  "nbformat_minor": 0,
  "metadata": {
    "colab": {
      "name": "Polynomial-Regression.ipynb",
      "provenance": [],
      "collapsed_sections": [],
      "authorship_tag": "ABX9TyPhG8FmG/oVUcz4ti36gBu5",
      "include_colab_link": true
    },
    "kernelspec": {
      "name": "python3",
      "display_name": "Python 3"
    },
    "language_info": {
      "name": "python"
    },
    "widgets": {
      "application/vnd.jupyter.widget-state+json": {
        "97d79999ea59477287fb4df3a113b0ce": {
          "model_module": "@jupyter-widgets/controls",
          "model_name": "VBoxModel",
          "model_module_version": "1.5.0",
          "state": {
            "_view_name": "VBoxView",
            "_dom_classes": [
              "widget-interact"
            ],
            "_model_name": "VBoxModel",
            "_view_module": "@jupyter-widgets/controls",
            "_model_module_version": "1.5.0",
            "_view_count": null,
            "_view_module_version": "1.5.0",
            "box_style": "",
            "layout": "IPY_MODEL_321179f704c34cee84f33e699b569699",
            "_model_module": "@jupyter-widgets/controls",
            "children": [
              "IPY_MODEL_604eca7bbee24924a303f9784a44f4d0",
              "IPY_MODEL_645cfa125b17433bb20a29ceae3d3ab1",
              "IPY_MODEL_9d79de9394994e919119f220bf85fedf",
              "IPY_MODEL_7b8c0d4f66f04cbea8fc8105d78f432f"
            ]
          }
        },
        "321179f704c34cee84f33e699b569699": {
          "model_module": "@jupyter-widgets/base",
          "model_name": "LayoutModel",
          "model_module_version": "1.2.0",
          "state": {
            "_view_name": "LayoutView",
            "grid_template_rows": null,
            "right": null,
            "justify_content": null,
            "_view_module": "@jupyter-widgets/base",
            "overflow": null,
            "_model_module_version": "1.2.0",
            "_view_count": null,
            "flex_flow": null,
            "width": null,
            "min_width": null,
            "border": null,
            "align_items": null,
            "bottom": null,
            "_model_module": "@jupyter-widgets/base",
            "top": null,
            "grid_column": null,
            "overflow_y": null,
            "overflow_x": null,
            "grid_auto_flow": null,
            "grid_area": null,
            "grid_template_columns": null,
            "flex": null,
            "_model_name": "LayoutModel",
            "justify_items": null,
            "grid_row": null,
            "max_height": null,
            "align_content": null,
            "visibility": null,
            "align_self": null,
            "height": null,
            "min_height": null,
            "padding": null,
            "grid_auto_rows": null,
            "grid_gap": null,
            "max_width": null,
            "order": null,
            "_view_module_version": "1.2.0",
            "grid_template_areas": null,
            "object_position": null,
            "object_fit": null,
            "grid_auto_columns": null,
            "margin": null,
            "display": null,
            "left": null
          }
        },
        "604eca7bbee24924a303f9784a44f4d0": {
          "model_module": "@jupyter-widgets/controls",
          "model_name": "IntSliderModel",
          "model_module_version": "1.5.0",
          "state": {
            "_view_name": "IntSliderView",
            "style": "IPY_MODEL_832a1add95eb4bb097c1449b4dfeab44",
            "_dom_classes": [],
            "description": "degree_fit",
            "step": 1,
            "_model_name": "IntSliderModel",
            "orientation": "horizontal",
            "max": 5,
            "_view_module": "@jupyter-widgets/controls",
            "_model_module_version": "1.5.0",
            "value": 1,
            "_view_count": null,
            "disabled": false,
            "_view_module_version": "1.5.0",
            "min": 1,
            "continuous_update": false,
            "readout_format": "d",
            "description_tooltip": null,
            "readout": true,
            "_model_module": "@jupyter-widgets/controls",
            "layout": "IPY_MODEL_e9bd17447ae1434c9d06fca0ba21ad94"
          }
        },
        "645cfa125b17433bb20a29ceae3d3ab1": {
          "model_module": "@jupyter-widgets/controls",
          "model_name": "CheckboxModel",
          "model_module_version": "1.5.0",
          "state": {
            "_view_name": "CheckboxView",
            "style": "IPY_MODEL_020ac889bb8748258ce38bfe697effe9",
            "_dom_classes": [],
            "description": "Regularization",
            "_model_name": "CheckboxModel",
            "_view_module": "@jupyter-widgets/controls",
            "_model_module_version": "1.5.0",
            "value": false,
            "_view_count": null,
            "disabled": false,
            "_view_module_version": "1.5.0",
            "indent": false,
            "description_tooltip": null,
            "_model_module": "@jupyter-widgets/controls",
            "layout": "IPY_MODEL_a9308f8ddf7d42f4a79a7d4ce77317ae"
          }
        },
        "9d79de9394994e919119f220bf85fedf": {
          "model_module": "@jupyter-widgets/controls",
          "model_name": "FloatSliderModel",
          "model_module_version": "1.5.0",
          "state": {
            "_view_name": "FloatSliderView",
            "style": "IPY_MODEL_f60d210e281642d48fdd60a3104b1993",
            "_dom_classes": [],
            "description": "l",
            "step": 0.01,
            "_model_name": "FloatSliderModel",
            "orientation": "horizontal",
            "max": 1,
            "_view_module": "@jupyter-widgets/controls",
            "_model_module_version": "1.5.0",
            "value": 0.01,
            "_view_count": null,
            "disabled": false,
            "_view_module_version": "1.5.0",
            "min": 0.01,
            "continuous_update": false,
            "readout_format": ".2f",
            "description_tooltip": null,
            "readout": true,
            "_model_module": "@jupyter-widgets/controls",
            "layout": "IPY_MODEL_92e6f31500fe45b18f6ac8ff064e7689"
          }
        },
        "7b8c0d4f66f04cbea8fc8105d78f432f": {
          "model_module": "@jupyter-widgets/output",
          "model_name": "OutputModel",
          "model_module_version": "1.0.0",
          "state": {
            "_view_name": "OutputView",
            "msg_id": "",
            "_dom_classes": [],
            "_model_name": "OutputModel",
            "outputs": [
              {
                "output_type": "stream",
                "name": "stdout",
                "text": [
                  "Regularization:  False\n",
                  "B:\n",
                  " [[-7.96022869]\n",
                  " [-3.94119289]]\n",
                  "MSE:  49.748088069637845\n"
                ]
              },
              {
                "output_type": "display_data",
                "data": {
                  "image/png": "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\n",
                  "text/plain": "<Figure size 432x288 with 1 Axes>"
                },
                "metadata": {
                  "needs_background": "light"
                }
              },
              {
                "output_type": "stream",
                "name": "stdout",
                "text": [
                  "f(x) = -7.960229 +-3.941193x^1\n"
                ]
              }
            ],
            "_view_module": "@jupyter-widgets/output",
            "_model_module_version": "1.0.0",
            "_view_count": null,
            "_view_module_version": "1.0.0",
            "layout": "IPY_MODEL_5c1256e7b364448db5120bd622eb35ab",
            "_model_module": "@jupyter-widgets/output"
          }
        },
        "832a1add95eb4bb097c1449b4dfeab44": {
          "model_module": "@jupyter-widgets/controls",
          "model_name": "SliderStyleModel",
          "model_module_version": "1.5.0",
          "state": {
            "_view_name": "StyleView",
            "handle_color": null,
            "_model_name": "SliderStyleModel",
            "description_width": "",
            "_view_module": "@jupyter-widgets/base",
            "_model_module_version": "1.5.0",
            "_view_count": null,
            "_view_module_version": "1.2.0",
            "_model_module": "@jupyter-widgets/controls"
          }
        },
        "e9bd17447ae1434c9d06fca0ba21ad94": {
          "model_module": "@jupyter-widgets/base",
          "model_name": "LayoutModel",
          "model_module_version": "1.2.0",
          "state": {
            "_view_name": "LayoutView",
            "grid_template_rows": null,
            "right": null,
            "justify_content": null,
            "_view_module": "@jupyter-widgets/base",
            "overflow": null,
            "_model_module_version": "1.2.0",
            "_view_count": null,
            "flex_flow": null,
            "width": null,
            "min_width": null,
            "border": null,
            "align_items": null,
            "bottom": null,
            "_model_module": "@jupyter-widgets/base",
            "top": null,
            "grid_column": null,
            "overflow_y": null,
            "overflow_x": null,
            "grid_auto_flow": null,
            "grid_area": null,
            "grid_template_columns": null,
            "flex": null,
            "_model_name": "LayoutModel",
            "justify_items": null,
            "grid_row": null,
            "max_height": null,
            "align_content": null,
            "visibility": null,
            "align_self": null,
            "height": null,
            "min_height": null,
            "padding": null,
            "grid_auto_rows": null,
            "grid_gap": null,
            "max_width": null,
            "order": null,
            "_view_module_version": "1.2.0",
            "grid_template_areas": null,
            "object_position": null,
            "object_fit": null,
            "grid_auto_columns": null,
            "margin": null,
            "display": null,
            "left": null
          }
        },
        "020ac889bb8748258ce38bfe697effe9": {
          "model_module": "@jupyter-widgets/controls",
          "model_name": "DescriptionStyleModel",
          "model_module_version": "1.5.0",
          "state": {
            "_view_name": "StyleView",
            "_model_name": "DescriptionStyleModel",
            "description_width": "",
            "_view_module": "@jupyter-widgets/base",
            "_model_module_version": "1.5.0",
            "_view_count": null,
            "_view_module_version": "1.2.0",
            "_model_module": "@jupyter-widgets/controls"
          }
        },
        "a9308f8ddf7d42f4a79a7d4ce77317ae": {
          "model_module": "@jupyter-widgets/base",
          "model_name": "LayoutModel",
          "model_module_version": "1.2.0",
          "state": {
            "_view_name": "LayoutView",
            "grid_template_rows": null,
            "right": null,
            "justify_content": null,
            "_view_module": "@jupyter-widgets/base",
            "overflow": null,
            "_model_module_version": "1.2.0",
            "_view_count": null,
            "flex_flow": null,
            "width": null,
            "min_width": null,
            "border": null,
            "align_items": null,
            "bottom": null,
            "_model_module": "@jupyter-widgets/base",
            "top": null,
            "grid_column": null,
            "overflow_y": null,
            "overflow_x": null,
            "grid_auto_flow": null,
            "grid_area": null,
            "grid_template_columns": null,
            "flex": null,
            "_model_name": "LayoutModel",
            "justify_items": null,
            "grid_row": null,
            "max_height": null,
            "align_content": null,
            "visibility": null,
            "align_self": null,
            "height": null,
            "min_height": null,
            "padding": null,
            "grid_auto_rows": null,
            "grid_gap": null,
            "max_width": null,
            "order": null,
            "_view_module_version": "1.2.0",
            "grid_template_areas": null,
            "object_position": null,
            "object_fit": null,
            "grid_auto_columns": null,
            "margin": null,
            "display": null,
            "left": null
          }
        },
        "f60d210e281642d48fdd60a3104b1993": {
          "model_module": "@jupyter-widgets/controls",
          "model_name": "SliderStyleModel",
          "model_module_version": "1.5.0",
          "state": {
            "_view_name": "StyleView",
            "handle_color": null,
            "_model_name": "SliderStyleModel",
            "description_width": "",
            "_view_module": "@jupyter-widgets/base",
            "_model_module_version": "1.5.0",
            "_view_count": null,
            "_view_module_version": "1.2.0",
            "_model_module": "@jupyter-widgets/controls"
          }
        },
        "92e6f31500fe45b18f6ac8ff064e7689": {
          "model_module": "@jupyter-widgets/base",
          "model_name": "LayoutModel",
          "model_module_version": "1.2.0",
          "state": {
            "_view_name": "LayoutView",
            "grid_template_rows": null,
            "right": null,
            "justify_content": null,
            "_view_module": "@jupyter-widgets/base",
            "overflow": null,
            "_model_module_version": "1.2.0",
            "_view_count": null,
            "flex_flow": null,
            "width": null,
            "min_width": null,
            "border": null,
            "align_items": null,
            "bottom": null,
            "_model_module": "@jupyter-widgets/base",
            "top": null,
            "grid_column": null,
            "overflow_y": null,
            "overflow_x": null,
            "grid_auto_flow": null,
            "grid_area": null,
            "grid_template_columns": null,
            "flex": null,
            "_model_name": "LayoutModel",
            "justify_items": null,
            "grid_row": null,
            "max_height": null,
            "align_content": null,
            "visibility": null,
            "align_self": null,
            "height": null,
            "min_height": null,
            "padding": null,
            "grid_auto_rows": null,
            "grid_gap": null,
            "max_width": null,
            "order": null,
            "_view_module_version": "1.2.0",
            "grid_template_areas": null,
            "object_position": null,
            "object_fit": null,
            "grid_auto_columns": null,
            "margin": null,
            "display": null,
            "left": null
          }
        },
        "5c1256e7b364448db5120bd622eb35ab": {
          "model_module": "@jupyter-widgets/base",
          "model_name": "LayoutModel",
          "model_module_version": "1.2.0",
          "state": {
            "_view_name": "LayoutView",
            "grid_template_rows": null,
            "right": null,
            "justify_content": null,
            "_view_module": "@jupyter-widgets/base",
            "overflow": null,
            "_model_module_version": "1.2.0",
            "_view_count": null,
            "flex_flow": null,
            "width": null,
            "min_width": null,
            "border": null,
            "align_items": null,
            "bottom": null,
            "_model_module": "@jupyter-widgets/base",
            "top": null,
            "grid_column": null,
            "overflow_y": null,
            "overflow_x": null,
            "grid_auto_flow": null,
            "grid_area": null,
            "grid_template_columns": null,
            "flex": null,
            "_model_name": "LayoutModel",
            "justify_items": null,
            "grid_row": null,
            "max_height": null,
            "align_content": null,
            "visibility": null,
            "align_self": null,
            "height": null,
            "min_height": null,
            "padding": null,
            "grid_auto_rows": null,
            "grid_gap": null,
            "max_width": null,
            "order": null,
            "_view_module_version": "1.2.0",
            "grid_template_areas": null,
            "object_position": null,
            "object_fit": null,
            "grid_auto_columns": null,
            "margin": null,
            "display": null,
            "left": null
          }
        },
        "67a218171d914c32a74329280154f39b": {
          "model_module": "@jupyter-widgets/controls",
          "model_name": "VBoxModel",
          "model_module_version": "1.5.0",
          "state": {
            "_view_name": "VBoxView",
            "_dom_classes": [
              "widget-interact"
            ],
            "_model_name": "VBoxModel",
            "_view_module": "@jupyter-widgets/controls",
            "_model_module_version": "1.5.0",
            "_view_count": null,
            "_view_module_version": "1.5.0",
            "box_style": "",
            "layout": "IPY_MODEL_9b5f8f8cce2e41399efda32aa480f95e",
            "_model_module": "@jupyter-widgets/controls",
            "children": [
              "IPY_MODEL_60451eb4868b47739b32b201dbd6f607",
              "IPY_MODEL_e70953e261d140138ea89ce6c6c9c6d4",
              "IPY_MODEL_04b6a40cdbd84a20ae9462f42f4df105",
              "IPY_MODEL_c153d91e82794e6bbd37b3a8e5d4dd6b"
            ]
          }
        },
        "9b5f8f8cce2e41399efda32aa480f95e": {
          "model_module": "@jupyter-widgets/base",
          "model_name": "LayoutModel",
          "model_module_version": "1.2.0",
          "state": {
            "_view_name": "LayoutView",
            "grid_template_rows": null,
            "right": null,
            "justify_content": null,
            "_view_module": "@jupyter-widgets/base",
            "overflow": null,
            "_model_module_version": "1.2.0",
            "_view_count": null,
            "flex_flow": null,
            "width": null,
            "min_width": null,
            "border": null,
            "align_items": null,
            "bottom": null,
            "_model_module": "@jupyter-widgets/base",
            "top": null,
            "grid_column": null,
            "overflow_y": null,
            "overflow_x": null,
            "grid_auto_flow": null,
            "grid_area": null,
            "grid_template_columns": null,
            "flex": null,
            "_model_name": "LayoutModel",
            "justify_items": null,
            "grid_row": null,
            "max_height": null,
            "align_content": null,
            "visibility": null,
            "align_self": null,
            "height": null,
            "min_height": null,
            "padding": null,
            "grid_auto_rows": null,
            "grid_gap": null,
            "max_width": null,
            "order": null,
            "_view_module_version": "1.2.0",
            "grid_template_areas": null,
            "object_position": null,
            "object_fit": null,
            "grid_auto_columns": null,
            "margin": null,
            "display": null,
            "left": null
          }
        },
        "60451eb4868b47739b32b201dbd6f607": {
          "model_module": "@jupyter-widgets/controls",
          "model_name": "IntSliderModel",
          "model_module_version": "1.5.0",
          "state": {
            "_view_name": "IntSliderView",
            "style": "IPY_MODEL_e40e387f18e14c838d4af2d06050ecea",
            "_dom_classes": [],
            "description": "degree_fit",
            "step": 1,
            "_model_name": "IntSliderModel",
            "orientation": "horizontal",
            "max": 10,
            "_view_module": "@jupyter-widgets/controls",
            "_model_module_version": "1.5.0",
            "value": 7,
            "_view_count": null,
            "disabled": false,
            "_view_module_version": "1.5.0",
            "min": 1,
            "continuous_update": false,
            "readout_format": "d",
            "description_tooltip": null,
            "readout": true,
            "_model_module": "@jupyter-widgets/controls",
            "layout": "IPY_MODEL_5e38e375cce54c1b93f0c28e3584a691"
          }
        },
        "e70953e261d140138ea89ce6c6c9c6d4": {
          "model_module": "@jupyter-widgets/controls",
          "model_name": "CheckboxModel",
          "model_module_version": "1.5.0",
          "state": {
            "_view_name": "CheckboxView",
            "style": "IPY_MODEL_a2ab63f40f034eefa6115305ce648071",
            "_dom_classes": [],
            "description": "Regularization",
            "_model_name": "CheckboxModel",
            "_view_module": "@jupyter-widgets/controls",
            "_model_module_version": "1.5.0",
            "value": true,
            "_view_count": null,
            "disabled": false,
            "_view_module_version": "1.5.0",
            "indent": false,
            "description_tooltip": null,
            "_model_module": "@jupyter-widgets/controls",
            "layout": "IPY_MODEL_ba0bfcda81d548629d2a8b95ce63d08a"
          }
        },
        "04b6a40cdbd84a20ae9462f42f4df105": {
          "model_module": "@jupyter-widgets/controls",
          "model_name": "FloatSliderModel",
          "model_module_version": "1.5.0",
          "state": {
            "_view_name": "FloatSliderView",
            "style": "IPY_MODEL_f422e33df7044c08988e14c9f2acab60",
            "_dom_classes": [],
            "description": "l",
            "step": 0.01,
            "_model_name": "FloatSliderModel",
            "orientation": "horizontal",
            "max": 10,
            "_view_module": "@jupyter-widgets/controls",
            "_model_module_version": "1.5.0",
            "value": 4.53,
            "_view_count": null,
            "disabled": false,
            "_view_module_version": "1.5.0",
            "min": 0.01,
            "continuous_update": false,
            "readout_format": ".2f",
            "description_tooltip": null,
            "readout": true,
            "_model_module": "@jupyter-widgets/controls",
            "layout": "IPY_MODEL_5397bac38cb843cd8e0744646ff93f21"
          }
        },
        "c153d91e82794e6bbd37b3a8e5d4dd6b": {
          "model_module": "@jupyter-widgets/output",
          "model_name": "OutputModel",
          "model_module_version": "1.0.0",
          "state": {
            "_view_name": "OutputView",
            "msg_id": "",
            "_dom_classes": [],
            "_model_name": "OutputModel",
            "outputs": [
              {
                "output_type": "stream",
                "name": "stdout",
                "text": [
                  "Regularization:  True\n",
                  "B:\n",
                  " [[ 6.57875766e-01]\n",
                  " [-1.38113516e-01]\n",
                  " [-4.44600781e-02]\n",
                  " [ 1.44808506e-01]\n",
                  " [-1.06427729e-02]\n",
                  " [-1.80532926e-02]\n",
                  " [ 7.66069943e-04]\n",
                  " [ 5.94472009e-04]]\n",
                  "MSE:  4.317509535478208\n"
                ]
              },
              {
                "output_type": "display_data",
                "data": {
                  "image/png": "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\n",
                  "text/plain": "<Figure size 432x288 with 1 Axes>"
                },
                "metadata": {
                  "needs_background": "light"
                }
              },
              {
                "output_type": "stream",
                "name": "stdout",
                "text": [
                  "f(x) = 0.657876 +-0.138114x^1 +-0.044460x^2 +0.144809x^3 +-0.010643x^4 +-0.018053x^5 +0.000766x^6 +0.000594x^7\n"
                ]
              }
            ],
            "_view_module": "@jupyter-widgets/output",
            "_model_module_version": "1.0.0",
            "_view_count": null,
            "_view_module_version": "1.0.0",
            "layout": "IPY_MODEL_254b950ce5ee43d29dcdb69da1e2c1ec",
            "_model_module": "@jupyter-widgets/output"
          }
        },
        "e40e387f18e14c838d4af2d06050ecea": {
          "model_module": "@jupyter-widgets/controls",
          "model_name": "SliderStyleModel",
          "model_module_version": "1.5.0",
          "state": {
            "_view_name": "StyleView",
            "handle_color": null,
            "_model_name": "SliderStyleModel",
            "description_width": "",
            "_view_module": "@jupyter-widgets/base",
            "_model_module_version": "1.5.0",
            "_view_count": null,
            "_view_module_version": "1.2.0",
            "_model_module": "@jupyter-widgets/controls"
          }
        },
        "5e38e375cce54c1b93f0c28e3584a691": {
          "model_module": "@jupyter-widgets/base",
          "model_name": "LayoutModel",
          "model_module_version": "1.2.0",
          "state": {
            "_view_name": "LayoutView",
            "grid_template_rows": null,
            "right": null,
            "justify_content": null,
            "_view_module": "@jupyter-widgets/base",
            "overflow": null,
            "_model_module_version": "1.2.0",
            "_view_count": null,
            "flex_flow": null,
            "width": null,
            "min_width": null,
            "border": null,
            "align_items": null,
            "bottom": null,
            "_model_module": "@jupyter-widgets/base",
            "top": null,
            "grid_column": null,
            "overflow_y": null,
            "overflow_x": null,
            "grid_auto_flow": null,
            "grid_area": null,
            "grid_template_columns": null,
            "flex": null,
            "_model_name": "LayoutModel",
            "justify_items": null,
            "grid_row": null,
            "max_height": null,
            "align_content": null,
            "visibility": null,
            "align_self": null,
            "height": null,
            "min_height": null,
            "padding": null,
            "grid_auto_rows": null,
            "grid_gap": null,
            "max_width": null,
            "order": null,
            "_view_module_version": "1.2.0",
            "grid_template_areas": null,
            "object_position": null,
            "object_fit": null,
            "grid_auto_columns": null,
            "margin": null,
            "display": null,
            "left": null
          }
        },
        "a2ab63f40f034eefa6115305ce648071": {
          "model_module": "@jupyter-widgets/controls",
          "model_name": "DescriptionStyleModel",
          "model_module_version": "1.5.0",
          "state": {
            "_view_name": "StyleView",
            "_model_name": "DescriptionStyleModel",
            "description_width": "",
            "_view_module": "@jupyter-widgets/base",
            "_model_module_version": "1.5.0",
            "_view_count": null,
            "_view_module_version": "1.2.0",
            "_model_module": "@jupyter-widgets/controls"
          }
        },
        "ba0bfcda81d548629d2a8b95ce63d08a": {
          "model_module": "@jupyter-widgets/base",
          "model_name": "LayoutModel",
          "model_module_version": "1.2.0",
          "state": {
            "_view_name": "LayoutView",
            "grid_template_rows": null,
            "right": null,
            "justify_content": null,
            "_view_module": "@jupyter-widgets/base",
            "overflow": null,
            "_model_module_version": "1.2.0",
            "_view_count": null,
            "flex_flow": null,
            "width": null,
            "min_width": null,
            "border": null,
            "align_items": null,
            "bottom": null,
            "_model_module": "@jupyter-widgets/base",
            "top": null,
            "grid_column": null,
            "overflow_y": null,
            "overflow_x": null,
            "grid_auto_flow": null,
            "grid_area": null,
            "grid_template_columns": null,
            "flex": null,
            "_model_name": "LayoutModel",
            "justify_items": null,
            "grid_row": null,
            "max_height": null,
            "align_content": null,
            "visibility": null,
            "align_self": null,
            "height": null,
            "min_height": null,
            "padding": null,
            "grid_auto_rows": null,
            "grid_gap": null,
            "max_width": null,
            "order": null,
            "_view_module_version": "1.2.0",
            "grid_template_areas": null,
            "object_position": null,
            "object_fit": null,
            "grid_auto_columns": null,
            "margin": null,
            "display": null,
            "left": null
          }
        },
        "f422e33df7044c08988e14c9f2acab60": {
          "model_module": "@jupyter-widgets/controls",
          "model_name": "SliderStyleModel",
          "model_module_version": "1.5.0",
          "state": {
            "_view_name": "StyleView",
            "handle_color": null,
            "_model_name": "SliderStyleModel",
            "description_width": "",
            "_view_module": "@jupyter-widgets/base",
            "_model_module_version": "1.5.0",
            "_view_count": null,
            "_view_module_version": "1.2.0",
            "_model_module": "@jupyter-widgets/controls"
          }
        },
        "5397bac38cb843cd8e0744646ff93f21": {
          "model_module": "@jupyter-widgets/base",
          "model_name": "LayoutModel",
          "model_module_version": "1.2.0",
          "state": {
            "_view_name": "LayoutView",
            "grid_template_rows": null,
            "right": null,
            "justify_content": null,
            "_view_module": "@jupyter-widgets/base",
            "overflow": null,
            "_model_module_version": "1.2.0",
            "_view_count": null,
            "flex_flow": null,
            "width": null,
            "min_width": null,
            "border": null,
            "align_items": null,
            "bottom": null,
            "_model_module": "@jupyter-widgets/base",
            "top": null,
            "grid_column": null,
            "overflow_y": null,
            "overflow_x": null,
            "grid_auto_flow": null,
            "grid_area": null,
            "grid_template_columns": null,
            "flex": null,
            "_model_name": "LayoutModel",
            "justify_items": null,
            "grid_row": null,
            "max_height": null,
            "align_content": null,
            "visibility": null,
            "align_self": null,
            "height": null,
            "min_height": null,
            "padding": null,
            "grid_auto_rows": null,
            "grid_gap": null,
            "max_width": null,
            "order": null,
            "_view_module_version": "1.2.0",
            "grid_template_areas": null,
            "object_position": null,
            "object_fit": null,
            "grid_auto_columns": null,
            "margin": null,
            "display": null,
            "left": null
          }
        },
        "254b950ce5ee43d29dcdb69da1e2c1ec": {
          "model_module": "@jupyter-widgets/base",
          "model_name": "LayoutModel",
          "model_module_version": "1.2.0",
          "state": {
            "_view_name": "LayoutView",
            "grid_template_rows": null,
            "right": null,
            "justify_content": null,
            "_view_module": "@jupyter-widgets/base",
            "overflow": null,
            "_model_module_version": "1.2.0",
            "_view_count": null,
            "flex_flow": null,
            "width": null,
            "min_width": null,
            "border": null,
            "align_items": null,
            "bottom": null,
            "_model_module": "@jupyter-widgets/base",
            "top": null,
            "grid_column": null,
            "overflow_y": null,
            "overflow_x": null,
            "grid_auto_flow": null,
            "grid_area": null,
            "grid_template_columns": null,
            "flex": null,
            "_model_name": "LayoutModel",
            "justify_items": null,
            "grid_row": null,
            "max_height": null,
            "align_content": null,
            "visibility": null,
            "align_self": null,
            "height": null,
            "min_height": null,
            "padding": null,
            "grid_auto_rows": null,
            "grid_gap": null,
            "max_width": null,
            "order": null,
            "_view_module_version": "1.2.0",
            "grid_template_areas": null,
            "object_position": null,
            "object_fit": null,
            "grid_auto_columns": null,
            "margin": null,
            "display": null,
            "left": null
          }
        }
      }
    }
  },
  "cells": [
    {
      "cell_type": "markdown",
      "metadata": {
        "id": "view-in-github",
        "colab_type": "text"
      },
      "source": [
        "<a href=\"https://colab.research.google.com/github/eovallemagallanes/pattern-recognition/blob/main/Polynomial_Regression.ipynb\" target=\"_parent\"><img src=\"https://colab.research.google.com/assets/colab-badge.svg\" alt=\"Open In Colab\"/></a>"
      ]
    },
    {
      "cell_type": "markdown",
      "source": [
        "# **Polynomial Regression**"
      ],
      "metadata": {
        "id": "AZkxky28i3vD"
      }
    },
    {
      "cell_type": "markdown",
      "source": [
        "In general, polynomial models are of the form:\n",
        "$$\n",
        "y = f(x) = \\beta_0 + \\beta_1 x_i + \\beta_2 x_i^2 + \\cdots + \\beta_d x_i^d + \\epsilon_i, \\quad i = 1, 2, \\cdots, n.\n",
        "$$\n",
        "where $d$ is the degree of the polynomial. \n",
        "\n",
        "Notice that the non-linear relationship between $y$ and $x$ is captured by the polynomial terms but the models remain linear in the parameters/coefficients $\\beta_k$. \n",
        "As such, to fit this model means to compute $\\beta_0, \\beta_1, \\beta_2, \\cdots, \\beta_d$ i.e., by standard square error (SE).\n",
        "\n",
        "The data and the model can be expressed in a vector notation where the i-th row of $\\mathbf{X}$ and $\\mathbf{Y}$ will contain the $x$ and $y$ value for the i-th data sample, such as:\n",
        "$$\n",
        "\\mathbf{Y} = \n",
        "\\begin{bmatrix}\n",
        "y_1 \\\\ y_2\\\\ y_3 \\\\ \\vdots \\\\ y_d\n",
        "\\end{bmatrix},\n",
        "\\mathbf{X} = \n",
        "\\begin{bmatrix}\n",
        "1 & x_1 & x_1^2 & \\cdots & x_1^d \\\\ 1 & x_2 & x_2^2 & \\cdots & x_2^d  \\\\ 1 & x_3 & x_3^2 & \\cdots & x_3^d  \\\\ \\vdots & \\vdots & \\vdots & \\ddots & \\vdots \\\\ 1 & x_n & x_n^2 & \\cdots & x_n^d  \n",
        "\\end{bmatrix},\n",
        "\\boldsymbol{\\beta} = \n",
        "\\begin{bmatrix}\n",
        "\\beta_0 \\\\ \\beta_1\\\\ \\beta_2 \\\\ \\vdots \\\\ \\beta_d\n",
        "\\end{bmatrix},\n",
        "\\boldsymbol{\\epsilon} = \n",
        "\\begin{bmatrix}\n",
        "\\epsilon_1\\\\ \\epsilon_2 \\\\ \\vdots \\\\ \\epsilon_n\n",
        "\\end{bmatrix},\n",
        "$$\n",
        "which when using pure matrix notation is written as\n",
        "$$\n",
        "\\mathbf{Y} = \\mathbf{X} \\boldsymbol{\\beta} + \\boldsymbol{\\epsilon}.\n",
        "$$\n",
        "\n",
        "Thus, by etimating the parameters with SE by minimizing w.r.t  $\\boldsymbol{\\beta}$ yields\n",
        "$$\n",
        "\\boldsymbol{\\beta}^\\ast = \\underset{\\boldsymbol{\\beta}}{\\mathrm{argmin}}  F(\\boldsymbol{\\beta}) = \\frac{1}{2} ||\\mathbf{Y} - \\mathbf{X} \\boldsymbol{\\beta} ||^2.\n",
        "$$\n",
        "\n",
        "Given that $F$ is convex, the minimum is found by solving the gradient of $F$:\n",
        "$$\n",
        "\\nabla_{\\boldsymbol{\\beta}} F(\\boldsymbol{\\beta}) = 0, \n",
        "$$\n",
        "this yields to:\n",
        "$$\n",
        "\\hat{\\boldsymbol{\\beta}} = (\\mathbf{X}^\\intercal \\mathbf{X})^{-1} \\mathbf{X}^\\intercal \\mathbf{Y}\n",
        "$$\n",
        "\n",
        "**Regularization** constrains (shrinks) the coefficient estimates towards zero. Thus, te regularization discourages learning a more complex or flexible model to avoid the risk of overfitting.\n",
        "In this way, a tunning parameter $\\lambda$ decides the penalization of the model. \n",
        "$$\n",
        "F(\\boldsymbol{\\beta}) = ||\\mathbf{Y} - \\mathbf{X} \\boldsymbol{\\beta} ||^2 + \\lambda ||\\boldsymbol{\\beta}||^2.\n",
        "$$\n",
        "Now, by minimizing the SE:\n",
        "$$\n",
        "\\hat{\\boldsymbol{\\beta}} = (\\mathbf{X}^\\intercal \\mathbf{X} + \\lambda \\mathbf{I})^{-1} \\mathbf{X}^\\intercal \\mathbf{Y}.\n",
        "$$\n",
        "\n",
        "When $\\lambda = 0$, the penalty term has no eﬀect, however, as $\\lambda \\rightarrow \\infty$, the cofficient estimates will approach zero.\n"
      ],
      "metadata": {
        "id": "zaIFwYB4i8f_"
      }
    },
    {
      "cell_type": "code",
      "execution_count": 1,
      "metadata": {
        "id": "Ddi6ctaDI2MS"
      },
      "outputs": [],
      "source": [
        "import numpy as np\n",
        "import matplotlib.pyplot as plt\n",
        "\n",
        "def transform(X, degree):\n",
        "    m, n = X.shape  \n",
        "    X_transform = np.ones((m, 1)) \n",
        "    j = 0     \n",
        "    for j in range(degree + 1) :\n",
        "        if j != 0 :\n",
        "            x_pow = np.power(X, j)  \n",
        "            # append x_pow to X_transform  \n",
        "            X_transform = np.append(X_transform, x_pow.reshape(-1, 1), axis = 1)\n",
        "    \n",
        "    return X_transform  "
      ]
    },
    {
      "cell_type": "code",
      "source": [
        "def gendata(degree):\n",
        "    B = np.random.randint(low=-10, high=10, size=(degree+1, 1))\n",
        "    X = np.arange(-2, 2, 0.2)\n",
        "    X = np.expand_dims(X, axis=-1)\n",
        "    Y = transform(X, degree)@B \n",
        "    noise = np.random.normal(0,1,len(Y))# 5*np.random.rand(*Y.shape)\n",
        "    noise = np.expand_dims(noise, axis=-1)\n",
        "    Y = Y + noise\n",
        "\n",
        "    return X, Y, B\n"
      ],
      "metadata": {
        "id": "drNmwncdPnlp"
      },
      "execution_count": 2,
      "outputs": []
    },
    {
      "cell_type": "code",
      "source": [
        "def fitting(X, Y, degree, regularization=False, l=0.01):\n",
        "    X_transform = transform(X, degree)\n",
        "    print('Regularization: ', regularization)\n",
        "    if regularization:\n",
        "        B = np.linalg.inv(X_transform.T@X_transform + l*np.eye(degree+1))@(X_transform.T@Y)\n",
        "    else:\n",
        "        B = np.linalg.inv(X_transform.T@X_transform)@(X_transform.T@Y)\n",
        "\n",
        "    return B"
      ],
      "metadata": {
        "id": "aMEyswA6XoFV"
      },
      "execution_count": 3,
      "outputs": []
    },
    {
      "cell_type": "code",
      "source": [
        "def mse(X, Y, B):\n",
        "    degree = len(B) - 1\n",
        "    X_transform = transform(X, degree)\n",
        "    Y_hat = X_transform@B\n",
        "    err = np.linalg.norm(Y-Y_hat)\n",
        "    return err"
      ],
      "metadata": {
        "id": "NcEg5rsOaAUX"
      },
      "execution_count": 4,
      "outputs": []
    },
    {
      "cell_type": "code",
      "source": [
        "def printpoly(B):\n",
        "    print('f(x) = %f +' %(B[0]), end='')\n",
        "    for i, b in enumerate(B[1:-1]):\n",
        "        print('%fx^%d +' %(b, i+1), end='')\n",
        "    print('%fx^%d' %(B[-1], len(B)-1)) "
      ],
      "metadata": {
        "id": "eCVkgeyGbtjI"
      },
      "execution_count": 5,
      "outputs": []
    },
    {
      "cell_type": "code",
      "source": [
        "from ipywidgets import widgets\n",
        "from ipywidgets import interact, interactive, fixed, interact_manual\n",
        "from ipywidgets import FloatSlider, Checkbox, IntSlider, ToggleButton"
      ],
      "metadata": {
        "id": "lWn_s1jIH-1g"
      },
      "execution_count": 6,
      "outputs": []
    },
    {
      "cell_type": "code",
      "source": [
        "def runner(X, Y, degree_fit, reg, l):\n",
        "    # apply polynomial fitting\n",
        "    B = fitting(X, Y, degree_fit, reg, l)\n",
        "    print('B:\\n', B)\n",
        "    err = mse(X, Y, B)\n",
        "    print('MSE: ', err)\n",
        "    eps = 0.01\n",
        "    x_min = np.min(X) - eps\n",
        "    x_max = np.max(X) + eps\n",
        "\n",
        "    # plot data & fitting\n",
        "    x_eval = np.arange(x_min, x_max, 0.01)\n",
        "    x_eval = np.expand_dims(x_eval, axis=-1)\n",
        "    Y_hat = transform(x_eval, degree_fit)@B\n",
        "\n",
        "    plt.plot(X, Y, '*', label='Data')\n",
        "    plt.plot( x_eval, Y_hat, label='Estimated')\n",
        "    plt.legend()\n",
        "    plt.show()\n",
        "\n",
        "    printpoly(B)\n",
        "    return B"
      ],
      "metadata": {
        "id": "Kro6i5aDIRac"
      },
      "execution_count": 7,
      "outputs": []
    },
    {
      "cell_type": "markdown",
      "source": [
        "# Fit polynomial Data"
      ],
      "metadata": {
        "id": "OXoWx8alisZK"
      }
    },
    {
      "cell_type": "code",
      "source": [
        "degree_real = 2\n",
        "X, Y, B_real = gendata(degree_real)\n",
        "printpoly(B_real)\n",
        "plt.plot(X, Y, '*')\n",
        "plt.show()"
      ],
      "metadata": {
        "colab": {
          "base_uri": "https://localhost:8080/",
          "height": 282
        },
        "id": "IVzXJPvhQvqA",
        "outputId": "d9feee0e-0548-485e-dc79-4ef4eaaa72fd"
      },
      "execution_count": 8,
      "outputs": [
        {
          "output_type": "stream",
          "name": "stdout",
          "text": [
            "f(x) = 4.000000 +-6.000000x^1 +-9.000000x^2\n"
          ]
        },
        {
          "output_type": "display_data",
          "data": {
            "image/png": "[encoded data removed]",
            "text/plain": [
              "<Figure size 432x288 with 1 Axes>"
            ]
          },
          "metadata": {
            "needs_background": "light"
          }
        }
      ]
    },
    {
      "cell_type": "code",
      "source": [
        "regularization_widget = Checkbox(value=False, description='Regularization', disabled=False, indent=False)\n",
        "degree_fit_widget = IntSlider(min=1, max=5, step=1, value=1, continuous_update=False)\n",
        "lambda_widget = FloatSlider(min=0.01, max=1, step=0.01, value=0.01, continuous_update=False)\n",
        "\n",
        "w2 = interactive(runner, X=fixed(X), Y=fixed(Y), degree_fit=degree_fit_widget, reg=regularization_widget, l=lambda_widget);\n",
        "display(w2)"
      ],
      "metadata": {
        "colab": {
          "base_uri": "https://localhost:8080/",
          "height": 467,
          "referenced_widgets": [
            "97d79999ea59477287fb4df3a113b0ce",
            "321179f704c34cee84f33e699b569699",
            "604eca7bbee24924a303f9784a44f4d0",
            "645cfa125b17433bb20a29ceae3d3ab1",
            "9d79de9394994e919119f220bf85fedf",
            "7b8c0d4f66f04cbea8fc8105d78f432f",
            "832a1add95eb4bb097c1449b4dfeab44",
            "e9bd17447ae1434c9d06fca0ba21ad94",
            "020ac889bb8748258ce38bfe697effe9",
            "a9308f8ddf7d42f4a79a7d4ce77317ae",
            "f60d210e281642d48fdd60a3104b1993",
            "92e6f31500fe45b18f6ac8ff064e7689",
            "5c1256e7b364448db5120bd622eb35ab"
          ]
        },
        "id": "pjOEckfTH_Xk",
        "outputId": "82b982b9-a6c4-4e25-8b48-99930ad4dbe5"
      },
      "execution_count": 9,
      "outputs": [
        {
          "output_type": "display_data",
          "data": {
            "application/vnd.jupyter.widget-view+json": {
              "model_id": "97d79999ea59477287fb4df3a113b0ce",
              "version_minor": 0,
              "version_major": 2
            },
            "text/plain": [
              "interactive(children=(IntSlider(value=1, continuous_update=False, description='degree_fit', max=5, min=1), Che…"
            ]
          },
          "metadata": {}
        }
      ]
    },
    {
      "cell_type": "markdown",
      "source": [
        "# Fit Gaussian Data"
      ],
      "metadata": {
        "id": "rW9RtMqIilyJ"
      }
    },
    {
      "cell_type": "code",
      "source": [
        "def gaussian(x, mu, sig):\n",
        "    return np.exp(-np.power(x - mu, 2.) / (2 * np.power(sig, 2.)))\n",
        "\n",
        "x_values = np.linspace(-4, 4, 30)\n",
        "x_values = np.expand_dims(x_values, axis=-1)\n",
        "mu = 0\n",
        "sig = 2\n",
        "y_values = gaussian(x_values, mu, sig)"
      ],
      "metadata": {
        "id": "QDRdNV1Pg3Ow"
      },
      "execution_count": 14,
      "outputs": []
    },
    {
      "cell_type": "code",
      "source": [
        "# add a noisy point\n",
        "y_values[5]*=-10"
      ],
      "metadata": {
        "id": "BAQxT46z2w2V"
      },
      "execution_count": 15,
      "outputs": []
    },
    {
      "cell_type": "code",
      "source": [
        "regularization_widget = Checkbox(value=False, description='Regularization', disabled=False, indent=False)\n",
        "degree_fit_widget = IntSlider(min=1, max=10, step=1, value=1, continuous_update=False)\n",
        "lambda_widget = FloatSlider(min=0.01, max=10, step=0.01, value=1, continuous_update=False)\n",
        "\n",
        "w2 = interactive(runner, X=fixed(x_values), Y=fixed(y_values), degree_fit=degree_fit_widget, reg=regularization_widget, l=lambda_widget);\n",
        "display(w2)"
      ],
      "metadata": {
        "colab": {
          "base_uri": "https://localhost:8080/",
          "height": 574,
          "referenced_widgets": [
            "67a218171d914c32a74329280154f39b",
            "9b5f8f8cce2e41399efda32aa480f95e",
            "60451eb4868b47739b32b201dbd6f607",
            "e70953e261d140138ea89ce6c6c9c6d4",
            "04b6a40cdbd84a20ae9462f42f4df105",
            "c153d91e82794e6bbd37b3a8e5d4dd6b",
            "e40e387f18e14c838d4af2d06050ecea",
            "5e38e375cce54c1b93f0c28e3584a691",
            "a2ab63f40f034eefa6115305ce648071",
            "ba0bfcda81d548629d2a8b95ce63d08a",
            "f422e33df7044c08988e14c9f2acab60",
            "5397bac38cb843cd8e0744646ff93f21",
            "254b950ce5ee43d29dcdb69da1e2c1ec"
          ]
        },
        "id": "7Uy_wpi3hIEv",
        "outputId": "9cc6a93a-aa3c-4184-e1b4-929025a564c8"
      },
      "execution_count": 16,
      "outputs": [
        {
          "output_type": "display_data",
          "data": {
            "application/vnd.jupyter.widget-view+json": {
              "model_id": "67a218171d914c32a74329280154f39b",
              "version_minor": 0,
              "version_major": 2
            },
            "text/plain": [
              "interactive(children=(IntSlider(value=1, continuous_update=False, description='degree_fit', max=10, min=1), Ch…"
            ]
          },
          "metadata": {}
        }
      ]
    }
  ]
}